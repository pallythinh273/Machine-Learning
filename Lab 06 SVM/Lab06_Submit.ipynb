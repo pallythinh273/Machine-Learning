{
 "cells": [
  {
   "cell_type": "markdown",
   "metadata": {},
   "source": [
    "# churn_rate_prediction - SVM"
   ]
  },
  {
   "cell_type": "markdown",
   "metadata": {},
   "source": [
    "## Read data"
   ]
  },
  {
   "cell_type": "code",
   "execution_count": 1,
   "metadata": {},
   "outputs": [
    {
     "data": {
      "text/plain": [
       "(36992, 25)"
      ]
     },
     "execution_count": 1,
     "metadata": {},
     "output_type": "execute_result"
    }
   ],
   "source": [
    "import pandas as pd\n",
    "import numpy as np\n",
    "import seaborn as sns\n",
    "import matplotlib.pyplot as plt\n",
    "\n",
    "df = pd.read_csv('churn_rate_prediction.csv')\n",
    "df.shape"
   ]
  },
  {
   "cell_type": "code",
   "execution_count": 2,
   "metadata": {},
   "outputs": [
    {
     "data": {
      "text/plain": [
       "customer_id                        0\n",
       "Name                               0\n",
       "age                                0\n",
       "gender                             0\n",
       "security_no                        0\n",
       "region_category                 5428\n",
       "membership_category                0\n",
       "joining_date                       0\n",
       "joined_through_referral            0\n",
       "referral_id                        0\n",
       "preferred_offer_types            288\n",
       "medium_of_operation                0\n",
       "internet_option                    0\n",
       "last_visit_time                    0\n",
       "days_since_last_login              0\n",
       "avg_time_spent                     0\n",
       "avg_transaction_value              0\n",
       "avg_frequency_login_days           0\n",
       "points_in_wallet                3443\n",
       "used_special_discount              0\n",
       "offer_application_preference       0\n",
       "past_complaint                     0\n",
       "complaint_status                   0\n",
       "feedback                           0\n",
       "churn_risk_score                   0\n",
       "dtype: int64"
      ]
     },
     "execution_count": 2,
     "metadata": {},
     "output_type": "execute_result"
    }
   ],
   "source": [
    "# Check tong quan bo du lieu\n",
    "df.isnull().sum()"
   ]
  },
  {
   "cell_type": "code",
   "execution_count": 3,
   "metadata": {},
   "outputs": [
    {
     "data": {
      "text/html": [
       "<div>\n",
       "<style scoped>\n",
       "    .dataframe tbody tr th:only-of-type {\n",
       "        vertical-align: middle;\n",
       "    }\n",
       "\n",
       "    .dataframe tbody tr th {\n",
       "        vertical-align: top;\n",
       "    }\n",
       "\n",
       "    .dataframe thead th {\n",
       "        text-align: right;\n",
       "    }\n",
       "</style>\n",
       "<table border=\"1\" class=\"dataframe\">\n",
       "  <thead>\n",
       "    <tr style=\"text-align: right;\">\n",
       "      <th></th>\n",
       "      <th>age</th>\n",
       "      <th>days_since_last_login</th>\n",
       "      <th>avg_time_spent</th>\n",
       "      <th>avg_transaction_value</th>\n",
       "      <th>points_in_wallet</th>\n",
       "      <th>churn_risk_score</th>\n",
       "    </tr>\n",
       "  </thead>\n",
       "  <tbody>\n",
       "    <tr>\n",
       "      <th>count</th>\n",
       "      <td>36992.000000</td>\n",
       "      <td>36992.000000</td>\n",
       "      <td>36992.000000</td>\n",
       "      <td>36992.000000</td>\n",
       "      <td>33549.000000</td>\n",
       "      <td>36992.000000</td>\n",
       "    </tr>\n",
       "    <tr>\n",
       "      <th>mean</th>\n",
       "      <td>37.118161</td>\n",
       "      <td>-41.915576</td>\n",
       "      <td>243.472334</td>\n",
       "      <td>29271.194003</td>\n",
       "      <td>686.882199</td>\n",
       "      <td>3.463397</td>\n",
       "    </tr>\n",
       "    <tr>\n",
       "      <th>std</th>\n",
       "      <td>15.867412</td>\n",
       "      <td>228.819900</td>\n",
       "      <td>398.289149</td>\n",
       "      <td>19444.806226</td>\n",
       "      <td>194.063624</td>\n",
       "      <td>1.409661</td>\n",
       "    </tr>\n",
       "    <tr>\n",
       "      <th>min</th>\n",
       "      <td>10.000000</td>\n",
       "      <td>-999.000000</td>\n",
       "      <td>-2814.109110</td>\n",
       "      <td>800.460000</td>\n",
       "      <td>-760.661236</td>\n",
       "      <td>-1.000000</td>\n",
       "    </tr>\n",
       "    <tr>\n",
       "      <th>25%</th>\n",
       "      <td>23.000000</td>\n",
       "      <td>8.000000</td>\n",
       "      <td>60.102500</td>\n",
       "      <td>14177.540000</td>\n",
       "      <td>616.150000</td>\n",
       "      <td>3.000000</td>\n",
       "    </tr>\n",
       "    <tr>\n",
       "      <th>50%</th>\n",
       "      <td>37.000000</td>\n",
       "      <td>12.000000</td>\n",
       "      <td>161.765000</td>\n",
       "      <td>27554.485000</td>\n",
       "      <td>697.620000</td>\n",
       "      <td>4.000000</td>\n",
       "    </tr>\n",
       "    <tr>\n",
       "      <th>75%</th>\n",
       "      <td>51.000000</td>\n",
       "      <td>16.000000</td>\n",
       "      <td>356.515000</td>\n",
       "      <td>40855.110000</td>\n",
       "      <td>763.950000</td>\n",
       "      <td>5.000000</td>\n",
       "    </tr>\n",
       "    <tr>\n",
       "      <th>max</th>\n",
       "      <td>64.000000</td>\n",
       "      <td>26.000000</td>\n",
       "      <td>3235.578521</td>\n",
       "      <td>99914.050000</td>\n",
       "      <td>2069.069761</td>\n",
       "      <td>5.000000</td>\n",
       "    </tr>\n",
       "  </tbody>\n",
       "</table>\n",
       "</div>"
      ],
      "text/plain": [
       "                age  days_since_last_login  avg_time_spent  \\\n",
       "count  36992.000000           36992.000000    36992.000000   \n",
       "mean      37.118161             -41.915576      243.472334   \n",
       "std       15.867412             228.819900      398.289149   \n",
       "min       10.000000            -999.000000    -2814.109110   \n",
       "25%       23.000000               8.000000       60.102500   \n",
       "50%       37.000000              12.000000      161.765000   \n",
       "75%       51.000000              16.000000      356.515000   \n",
       "max       64.000000              26.000000     3235.578521   \n",
       "\n",
       "       avg_transaction_value  points_in_wallet  churn_risk_score  \n",
       "count           36992.000000      33549.000000      36992.000000  \n",
       "mean            29271.194003        686.882199          3.463397  \n",
       "std             19444.806226        194.063624          1.409661  \n",
       "min               800.460000       -760.661236         -1.000000  \n",
       "25%             14177.540000        616.150000          3.000000  \n",
       "50%             27554.485000        697.620000          4.000000  \n",
       "75%             40855.110000        763.950000          5.000000  \n",
       "max             99914.050000       2069.069761          5.000000  "
      ]
     },
     "execution_count": 3,
     "metadata": {},
     "output_type": "execute_result"
    }
   ],
   "source": [
    "df.describe()"
   ]
  },
  {
   "cell_type": "markdown",
   "metadata": {},
   "source": [
    "## Data Analysis"
   ]
  },
  {
   "cell_type": "code",
   "execution_count": 4,
   "metadata": {},
   "outputs": [
    {
     "data": {
      "image/png": "[encoded data removed]",
      "text/plain": [
       "<Figure size 1500x1500 with 6 Axes>"
      ]
     },
     "metadata": {},
     "output_type": "display_data"
    }
   ],
   "source": [
    "df.hist(figsize=(15, 15))\n",
    "plt.show()"
   ]
  },
  {
   "cell_type": "markdown",
   "metadata": {},
   "source": [
    "## Data Preprocessing"
   ]
  },
  {
   "cell_type": "code",
   "execution_count": 5,
   "metadata": {},
   "outputs": [
    {
     "data": {
      "text/plain": [
       "['customer_id',\n",
       " 'Name',\n",
       " 'gender',\n",
       " 'security_no',\n",
       " 'region_category',\n",
       " 'membership_category',\n",
       " 'joining_date',\n",
       " 'joined_through_referral',\n",
       " 'referral_id',\n",
       " 'preferred_offer_types',\n",
       " 'medium_of_operation',\n",
       " 'internet_option',\n",
       " 'last_visit_time',\n",
       " 'avg_frequency_login_days',\n",
       " 'used_special_discount',\n",
       " 'offer_application_preference',\n",
       " 'past_complaint',\n",
       " 'complaint_status',\n",
       " 'feedback']"
      ]
     },
     "execution_count": 5,
     "metadata": {},
     "output_type": "execute_result"
    }
   ],
   "source": [
    "# Lay cac cot categorical\n",
    "categorical_features = [feature for feature in df.columns if ((df[feature].dtypes == 'object') & (feature != 'y'))]\n",
    "categorical_features"
   ]
  },
  {
   "cell_type": "markdown",
   "metadata": {},
   "source": [
    "Xem qua bộ dữ liệu bao gồm những giá trị gì và số lượng"
   ]
  },
  {
   "cell_type": "code",
   "execution_count": 6,
   "metadata": {},
   "outputs": [
    {
     "name": "stdout",
     "output_type": "stream",
     "text": [
      "customer_id : 36992\n",
      "Name : 36992\n",
      "gender : ['F' 'M' 'Unknown'] 3\n",
      "security_no : 36992\n",
      "region_category : ['Village' 'City' 'Town' nan] 4\n",
      "membership_category : ['Platinum Membership' 'Premium Membership' 'No Membership'\n",
      " 'Gold Membership' 'Silver Membership' 'Basic Membership'] 6\n",
      "joining_date : 1096\n",
      "joined_through_referral : ['No' '?' 'Yes'] 3\n",
      "referral_id : 11359\n",
      "preferred_offer_types : ['Gift Vouchers/Coupons' 'Credit/Debit Card Offers' 'Without Offers' nan] 4\n",
      "medium_of_operation : ['?' 'Desktop' 'Smartphone' 'Both'] 4\n",
      "internet_option : ['Wi-Fi' 'Mobile_Data' 'Fiber_Optic'] 3\n",
      "last_visit_time : 30101\n",
      "avg_frequency_login_days : 1654\n",
      "used_special_discount : ['Yes' 'No'] 2\n",
      "offer_application_preference : ['Yes' 'No'] 2\n",
      "past_complaint : ['No' 'Yes'] 2\n",
      "complaint_status : ['Not Applicable' 'Solved' 'Solved in Follow-up' 'Unsolved'\n",
      " 'No Information Available'] 5\n",
      "feedback : 9\n"
     ]
    }
   ],
   "source": [
    "for values in categorical_features:\n",
    "    if(len(df[values].unique()) < 7):\n",
    "        print(values,':',df[values].unique(), len(df[values].unique()))\n",
    "    else:\n",
    "        print(values, ':', len(df[values].unique()))"
   ]
  },
  {
   "cell_type": "markdown",
   "metadata": {},
   "source": [
    "Các giá trị bị thiếu như: 'Unknown', nan, '?'"
   ]
  },
  {
   "cell_type": "code",
   "execution_count": 7,
   "metadata": {},
   "outputs": [
    {
     "data": {
      "text/plain": [
       "['age',\n",
       " 'days_since_last_login',\n",
       " 'avg_time_spent',\n",
       " 'avg_transaction_value',\n",
       " 'points_in_wallet',\n",
       " 'churn_risk_score']"
      ]
     },
     "execution_count": 7,
     "metadata": {},
     "output_type": "execute_result"
    }
   ],
   "source": [
    "numerical_features = [feature for feature in df.columns if ((df[feature].dtypes != 'O') & (feature not in ['y']))]\n",
    "numerical_features"
   ]
  },
  {
   "cell_type": "code",
   "execution_count": 8,
   "metadata": {},
   "outputs": [
    {
     "name": "stdout",
     "output_type": "stream",
     "text": [
      "age : 55\n",
      "days_since_last_login : 27\n",
      "avg_time_spent : 25961\n",
      "avg_transaction_value : 36894\n",
      "points_in_wallet : 23700\n",
      "churn_risk_score : [ 2  1  5  3  4 -1] 6\n"
     ]
    }
   ],
   "source": [
    "for values in numerical_features:\n",
    "    if(len(df[values].unique()) < 7):\n",
    "        print(values,':',df[values].unique(), len(df[values].unique()))\n",
    "    else:\n",
    "        print(values, ':', len(df[values].unique()))"
   ]
  },
  {
   "cell_type": "markdown",
   "metadata": {},
   "source": [
    "Các cột cần quan tâm đến vì có những giá trị bất thường"
   ]
  },
  {
   "cell_type": "code",
   "execution_count": 9,
   "metadata": {},
   "outputs": [
    {
     "data": {
      "text/plain": [
       "age                         0\n",
       "days_since_last_login       0\n",
       "avg_time_spent              0\n",
       "avg_transaction_value       0\n",
       "points_in_wallet         3443\n",
       "churn_risk_score            0\n",
       "dtype: int64"
      ]
     },
     "execution_count": 9,
     "metadata": {},
     "output_type": "execute_result"
    }
   ],
   "source": [
    "df[numerical_features].isnull().sum()"
   ]
  },
  {
   "cell_type": "markdown",
   "metadata": {},
   "source": [
    "### 'customer_id', 'Name', 'security_no'"
   ]
  },
  {
   "cell_type": "code",
   "execution_count": 10,
   "metadata": {},
   "outputs": [
    {
     "data": {
      "text/plain": [
       "(36992, 22)"
      ]
     },
     "execution_count": 10,
     "metadata": {},
     "output_type": "execute_result"
    }
   ],
   "source": [
    "df.drop(['customer_id','Name','security_no'], axis=1, inplace=True)\n",
    "df.shape"
   ]
  },
  {
   "cell_type": "markdown",
   "metadata": {},
   "source": [
    "### gender"
   ]
  },
  {
   "cell_type": "code",
   "execution_count": 11,
   "metadata": {},
   "outputs": [
    {
     "data": {
      "text/plain": [
       "gender\n",
       "F          18490\n",
       "M          18443\n",
       "Unknown       59\n",
       "Name: count, dtype: int64"
      ]
     },
     "execution_count": 11,
     "metadata": {},
     "output_type": "execute_result"
    }
   ],
   "source": [
    "df['gender'].value_counts()"
   ]
  },
  {
   "cell_type": "code",
   "execution_count": 12,
   "metadata": {},
   "outputs": [
    {
     "data": {
      "text/plain": [
       "gender\n",
       "M    18502\n",
       "F    18490\n",
       "Name: count, dtype: int64"
      ]
     },
     "execution_count": 12,
     "metadata": {},
     "output_type": "execute_result"
    }
   ],
   "source": [
    "df['gender'] = df['gender'].replace('Unknown','M')\n",
    "df['gender'].value_counts()"
   ]
  },
  {
   "cell_type": "markdown",
   "metadata": {},
   "source": [
    "### region_category - nan"
   ]
  },
  {
   "cell_type": "code",
   "execution_count": 13,
   "metadata": {},
   "outputs": [
    {
     "data": {
      "text/plain": [
       "region_category\n",
       "Town       14128\n",
       "City       12737\n",
       "Village     4699\n",
       "Name: count, dtype: int64"
      ]
     },
     "execution_count": 13,
     "metadata": {},
     "output_type": "execute_result"
    }
   ],
   "source": [
    "df['region_category'].value_counts()\n"
   ]
  },
  {
   "cell_type": "code",
   "execution_count": 14,
   "metadata": {},
   "outputs": [
    {
     "name": "stdout",
     "output_type": "stream",
     "text": [
      "['Village' 'City' 'Town' nan]\n"
     ]
    }
   ],
   "source": [
    "unique_values = df['region_category'].unique()\n",
    "print(unique_values)"
   ]
  },
  {
   "cell_type": "code",
   "execution_count": 15,
   "metadata": {},
   "outputs": [
    {
     "data": {
      "text/plain": [
       "5428"
      ]
     },
     "execution_count": 15,
     "metadata": {},
     "output_type": "execute_result"
    }
   ],
   "source": [
    "df['region_category'].isnull().sum()"
   ]
  },
  {
   "cell_type": "code",
   "execution_count": 16,
   "metadata": {},
   "outputs": [
    {
     "data": {
      "text/plain": [
       "region_category\n",
       "Town       19556\n",
       "City       12737\n",
       "Village     4699\n",
       "Name: count, dtype: int64"
      ]
     },
     "execution_count": 16,
     "metadata": {},
     "output_type": "execute_result"
    }
   ],
   "source": [
    "df['region_category'] = df['region_category'].fillna(df['region_category'].mode()[0])\n",
    "df['region_category'].value_counts()"
   ]
  },
  {
   "cell_type": "markdown",
   "metadata": {},
   "source": [
    "### joining_date"
   ]
  },
  {
   "cell_type": "code",
   "execution_count": 17,
   "metadata": {},
   "outputs": [
    {
     "data": {
      "text/plain": [
       "joining_date\n",
       "2015-06-02    55\n",
       "2015-07-04    51\n",
       "2015-06-21    50\n",
       "2015-06-26    49\n",
       "2016-08-03    49\n",
       "              ..\n",
       "2016-03-16    19\n",
       "2016-06-03    18\n",
       "2015-09-12    18\n",
       "2017-07-03    18\n",
       "2015-03-04    16\n",
       "Name: count, Length: 1096, dtype: int64"
      ]
     },
     "execution_count": 17,
     "metadata": {},
     "output_type": "execute_result"
    }
   ],
   "source": [
    "df['joining_date'].value_counts()"
   ]
  },
  {
   "cell_type": "code",
   "execution_count": 18,
   "metadata": {},
   "outputs": [],
   "source": [
    "df['joining_date'] = pd.to_datetime(df['joining_date'])\n",
    "df['days_since_joined'] = df['joining_date'].apply(lambda x:(pd.Timestamp('today') - x).days)\n",
    "df.drop(['joining_date'], inplace=True, axis=1)"
   ]
  },
  {
   "cell_type": "markdown",
   "metadata": {},
   "source": [
    "### Chỉnh sửa dữ liệu = '?' của cột 'joined_through_referral' \n",
    " + Nếu referral_id != 'xxxxxxxx' thì joined_through_referral = Yes\n",
    " \n",
    " + Nếu referral_id == 'xxxxxxxx' thì joined_through_referral = No"
   ]
  },
  {
   "cell_type": "code",
   "execution_count": 19,
   "metadata": {},
   "outputs": [
    {
     "data": {
      "text/plain": [
       "joined_through_referral\n",
       "No     15839\n",
       "Yes    15715\n",
       "?       5438\n",
       "Name: count, dtype: int64"
      ]
     },
     "execution_count": 19,
     "metadata": {},
     "output_type": "execute_result"
    }
   ],
   "source": [
    "df['joined_through_referral'].value_counts()"
   ]
  },
  {
   "cell_type": "code",
   "execution_count": 20,
   "metadata": {},
   "outputs": [],
   "source": [
    "df.loc[df['joined_through_referral'] == '?', 'joined_through_referral'] = df.loc[df['joined_through_referral'] == '?', 'referral_id'].apply(lambda x: 'No' if x == 'xxxxxxxx' else 'Yes')"
   ]
  },
  {
   "cell_type": "markdown",
   "metadata": {},
   "source": [
    "### referral_id - drop"
   ]
  },
  {
   "cell_type": "code",
   "execution_count": 21,
   "metadata": {},
   "outputs": [
    {
     "data": {
      "text/plain": [
       "referral_id\n",
       "xxxxxxxx    17846\n",
       "CID43705       12\n",
       "CID3979        11\n",
       "CID49601       10\n",
       "CID15792        9\n",
       "            ...  \n",
       "CID28755        1\n",
       "CID62237        1\n",
       "CID23663        1\n",
       "CID23071        1\n",
       "CID45477        1\n",
       "Name: count, Length: 11359, dtype: int64"
      ]
     },
     "execution_count": 21,
     "metadata": {},
     "output_type": "execute_result"
    }
   ],
   "source": [
    "df['referral_id'].value_counts()"
   ]
  },
  {
   "cell_type": "code",
   "execution_count": 22,
   "metadata": {},
   "outputs": [],
   "source": [
    "df.drop('referral_id', axis=1, inplace=True)"
   ]
  },
  {
   "cell_type": "markdown",
   "metadata": {},
   "source": [
    "### preferred_offer_type - nan"
   ]
  },
  {
   "cell_type": "code",
   "execution_count": 23,
   "metadata": {},
   "outputs": [
    {
     "data": {
      "text/plain": [
       "preferred_offer_types\n",
       "Gift Vouchers/Coupons       12349\n",
       "Credit/Debit Card Offers    12274\n",
       "Without Offers              12081\n",
       "Name: count, dtype: int64"
      ]
     },
     "execution_count": 23,
     "metadata": {},
     "output_type": "execute_result"
    }
   ],
   "source": [
    "df['preferred_offer_types'].value_counts()"
   ]
  },
  {
   "cell_type": "code",
   "execution_count": 24,
   "metadata": {},
   "outputs": [
    {
     "data": {
      "text/plain": [
       "288"
      ]
     },
     "execution_count": 24,
     "metadata": {},
     "output_type": "execute_result"
    }
   ],
   "source": [
    "df['preferred_offer_types'].isnull().sum()"
   ]
  },
  {
   "cell_type": "code",
   "execution_count": 25,
   "metadata": {},
   "outputs": [
    {
     "data": {
      "text/plain": [
       "preferred_offer_types\n",
       "Gift Vouchers/Coupons       12637\n",
       "Credit/Debit Card Offers    12274\n",
       "Without Offers              12081\n",
       "Name: count, dtype: int64"
      ]
     },
     "execution_count": 25,
     "metadata": {},
     "output_type": "execute_result"
    }
   ],
   "source": [
    "df['preferred_offer_types'] = df['preferred_offer_types'].fillna(df['preferred_offer_types'].mode()[0])\n",
    "df['preferred_offer_types'].value_counts()"
   ]
  },
  {
   "cell_type": "markdown",
   "metadata": {},
   "source": [
    "### medium_of_operation - '?'"
   ]
  },
  {
   "cell_type": "code",
   "execution_count": 26,
   "metadata": {},
   "outputs": [
    {
     "name": "stdout",
     "output_type": "stream",
     "text": [
      "internet_option      Fiber_Optic  Mobile_Data  Wi-Fi\n",
      "medium_of_operation                                 \n",
      "?                           1741         1849   1803\n",
      "Both                        1252         1262   1296\n",
      "Desktop                     4572         4625   4716\n",
      "Smartphone                  4671         4607   4598\n"
     ]
    }
   ],
   "source": [
    "# Thống kê crosstab giữa 'medium_of_operation' và 'internet_option'\n",
    "crosstab_result = pd.crosstab(df['medium_of_operation'], df['internet_option'])\n",
    "print(crosstab_result)"
   ]
  },
  {
   "cell_type": "markdown",
   "metadata": {},
   "source": [
    "Ta thấy giữa internet_option và medium_of_operation không thể hiện logic nào. Nên sử dụng phương pháp thay thế '?' bằng ngẫu nhiên 'Desktop', 'Both', 'Smartphone'theo tỷ lệ mà bộ dữ liệu đang có"
   ]
  },
  {
   "cell_type": "code",
   "execution_count": 27,
   "metadata": {},
   "outputs": [],
   "source": [
    "#Tỉ lệ các giá trị thay thế\n",
    "proportions = [1252, 4572, 4671]\n",
    "values = ['Desktop', 'Both', 'Smartphone']\n",
    "\n",
    "# Thay thế giá trị '?' bằng các giá trị ngẫu nhiên theo tỷ lệ\n",
    "replacements = np.random.choice(values, size=df['medium_of_operation'].eq('?').sum(), p=proportions/np.sum(proportions))\n",
    "df.loc[df['medium_of_operation'] == '?', 'medium_of_operation'] = replacements"
   ]
  },
  {
   "cell_type": "markdown",
   "metadata": {},
   "source": [
    "### last_visit_time"
   ]
  },
  {
   "cell_type": "code",
   "execution_count": 28,
   "metadata": {},
   "outputs": [],
   "source": [
    "from datetime import datetime\n",
    "def time_to_seconds(time_str):\n",
    "    time_obj = datetime.strptime(time_str, \"%H:%M:%S\")\n",
    "    total_seconds = time_obj.hour * 3600 + time_obj.minute * 60 + time_obj.second\n",
    "    return total_seconds\n",
    "df[\"last_visit_time\"] = df[\"last_visit_time\"].apply(time_to_seconds).fillna(0).astype(int)"
   ]
  },
  {
   "cell_type": "markdown",
   "metadata": {},
   "source": [
    "### avg_frequency_login_days - Error"
   ]
  },
  {
   "cell_type": "code",
   "execution_count": 29,
   "metadata": {},
   "outputs": [
    {
     "data": {
      "text/plain": [
       "count    33470.000000\n",
       "mean        15.976715\n",
       "std          9.215858\n",
       "min        -43.652702\n",
       "25%          9.000000\n",
       "50%         16.000000\n",
       "75%         23.000000\n",
       "max         73.061995\n",
       "Name: avg_frequency_login_days, dtype: float64"
      ]
     },
     "execution_count": 29,
     "metadata": {},
     "output_type": "execute_result"
    }
   ],
   "source": [
    "# thay thế Error = nan\n",
    "df['avg_frequency_login_days'] = df['avg_frequency_login_days'].replace('Error', np.nan).astype(float)\n",
    "df['avg_frequency_login_days'].describe()"
   ]
  },
  {
   "cell_type": "code",
   "execution_count": 30,
   "metadata": {},
   "outputs": [
    {
     "data": {
      "image/png": "[encoded data removed]",
      "text/plain": [
       "<Figure size 640x480 with 1 Axes>"
      ]
     },
     "metadata": {},
     "output_type": "display_data"
    }
   ],
   "source": [
    "data = df.loc[df['avg_frequency_login_days'] > -1]['avg_frequency_login_days']\n",
    "sns.histplot(data, kde=True)\n",
    "plt.xlabel('avg_frequency_login_days')\n",
    "plt.ylabel('Count')\n",
    "plt.title('avg_frequency_login_days')\n",
    "plt.show()"
   ]
  },
  {
   "cell_type": "markdown",
   "metadata": {},
   "source": [
    "Đồ thị bị lệch ==> Thay thế bằng median_value "
   ]
  },
  {
   "cell_type": "code",
   "execution_count": 31,
   "metadata": {},
   "outputs": [],
   "source": [
    "median_value = df.loc[df['avg_frequency_login_days'] >= 0, 'avg_frequency_login_days'].median()\n",
    "df['avg_frequency_login_days'] = df['avg_frequency_login_days'].mask(df['avg_frequency_login_days'] < 0, median_value)\n",
    "df['avg_frequency_login_days'] = df['avg_frequency_login_days'].fillna(median_value)"
   ]
  },
  {
   "cell_type": "markdown",
   "metadata": {},
   "source": [
    "### days_since_last_login "
   ]
  },
  {
   "cell_type": "code",
   "execution_count": 32,
   "metadata": {},
   "outputs": [
    {
     "data": {
      "text/plain": [
       "age  gender  region_category  membership_category  joined_through_referral  preferred_offer_types     medium_of_operation  internet_option  last_visit_time  days_since_last_login  avg_time_spent  avg_transaction_value  avg_frequency_login_days  points_in_wallet  used_special_discount  offer_application_preference  past_complaint  complaint_status          feedback                  churn_risk_score  days_since_joined\n",
       "10   F       City             Gold Membership      No                       Gift Vouchers/Coupons     Both                 Wi-Fi            40715            -999                    327.860000     21782.83               7.00000                   774.480000        Yes                    Yes                           No              Not Applicable            Poor Customer Service     3                 2413                 1\n",
       "47   F       Town             Silver Membership    Yes                      Without Offers            Desktop              Fiber_Optic      73257            -999                    987.132546     11442.12               26.00000                  645.480000        Yes                    No                            Yes             Unsolved                  Poor Customer Service     4                 2473                 1\n",
       "                              Premium Membership   No                       Without Offers            Smartphone           Fiber_Optic      82874            -999                    194.130000     5005.59                11.00000                  736.480000        No                     Yes                           Yes             Solved in Follow-up       No reason specified       3                 2929                 1\n",
       "                              Platinum Membership  Yes                      Gift Vouchers/Coupons     Desktop              Fiber_Optic      58               -999                   -977.782781     7439.16                16.00000                  737.540000        No                     Yes                           Yes             Unsolved                  Too many ads              3                 2949                 1\n",
       "                                                   No                       Gift Vouchers/Coupons     Smartphone           Fiber_Optic      39919            -999                    390.940000     32749.15               14.00000                  1105.746035       No                     Yes                           Yes             Unsolved                  Poor Website              3                 2376                 1\n",
       "                                                                                                                                                                                                                                                                                                                                                                                                                                      ..\n",
       "28   M       City             Basic Membership     No                       Gift Vouchers/Coupons     Smartphone           Fiber_Optic      6802             -999                    88.200000      23628.04               25.00000                  637.560000        No                     Yes                           Yes             Solved                    Too many ads              4                 2776                 1\n",
       "                                                                            Credit/Debit Card Offers  Smartphone           Wi-Fi            42548            -999                    150.650000     10542.04               23.00000                  588.070000        Yes                    No                            No              Not Applicable            Too many ads              5                 2744                 1\n",
       "     F       Town             Silver Membership    No                       Without Offers            Smartphone           Fiber_Optic      8114             -999                    91.790000      36297.43               38.27589                  721.450000        No                     Yes                           Yes             No Information Available  Poor Website              3                 2623                 1\n",
       "                                                                                                      Both                 Wi-Fi            51953            -999                    486.320000     61550.42               5.00000                   1142.821840       Yes                    Yes                           Yes             No Information Available  Products always in Stock  2                 2628                 1\n",
       "64   M       Village          No Membership        Yes                      Credit/Debit Card Offers  Smartphone           Fiber_Optic      69858            -999                    133.860000     21731.45               11.00000                  638.560000        No                     Yes                           No              Not Applicable            Poor Product Quality      5                 2433                 1\n",
       "Name: count, Length: 1832, dtype: int64"
      ]
     },
     "execution_count": 32,
     "metadata": {},
     "output_type": "execute_result"
    }
   ],
   "source": [
    "df.loc[df['days_since_last_login'] < 0].value_counts()"
   ]
  },
  {
   "cell_type": "markdown",
   "metadata": {},
   "source": [
    "Xét trên tập dữ liệu 'days_since_last_login' = -999\n",
    "        \n",
    "         Ta có thể thấy giá trị -999 chiếm 1999 dòng, đồng thời ứng với mỗi dòng dữ liệu đều tồn tại giá trị tại các cột như 'last_visit_time','avg_time_spent',... Nên ta có thể khẳng định đây không phải giá trị đại diện cho việc khách hàng chưa đăng nhập lần nào. Mà có thể các giá trị này là các giá trị bị thiếu (missing values)"
   ]
  },
  {
   "cell_type": "code",
   "execution_count": 33,
   "metadata": {},
   "outputs": [],
   "source": [
    "mean_value = df.loc[df['days_since_last_login'] > -1]['days_since_last_login'].mean()\n",
    "df['days_since_last_login'] = df['days_since_last_login'].replace(-999, mean_value)"
   ]
  },
  {
   "cell_type": "markdown",
   "metadata": {},
   "source": [
    "### avg_time_spent"
   ]
  },
  {
   "cell_type": "code",
   "execution_count": 34,
   "metadata": {},
   "outputs": [
    {
     "data": {
      "image/png": "[encoded data removed]",
      "text/plain": [
       "<Figure size 640x480 with 1 Axes>"
      ]
     },
     "metadata": {},
     "output_type": "display_data"
    }
   ],
   "source": [
    "sns.histplot( df.loc[df['avg_time_spent']>=0]['avg_time_spent'], kde=True)\n",
    "plt.xlabel('avg_time_spent')\n",
    "plt.ylabel('Count')\n",
    "plt.title('Histogram ')\n",
    "plt.show()\n"
   ]
  },
  {
   "cell_type": "markdown",
   "metadata": {},
   "source": [
    "Nhận xét:  dữ liệu chứa các giá trị ngoại lệ (outliers) và phân phối dữ liệu lệch.\n",
    "\n",
    "\n",
    "==> Sử dụng median() thay thế"
   ]
  },
  {
   "cell_type": "code",
   "execution_count": 35,
   "metadata": {},
   "outputs": [],
   "source": [
    "median_value = df.loc[df['avg_time_spent'] >= 0, 'avg_time_spent'].median()\n",
    "df['avg_time_spent'] = df['avg_time_spent'].mask(df['avg_time_spent'] < 0, median_value)"
   ]
  },
  {
   "cell_type": "markdown",
   "metadata": {},
   "source": [
    "### points_in_wallet"
   ]
  },
  {
   "cell_type": "code",
   "execution_count": 36,
   "metadata": {},
   "outputs": [
    {
     "data": {
      "image/png": "[encoded data removed]",
      "text/plain": [
       "<Figure size 640x480 with 1 Axes>"
      ]
     },
     "metadata": {},
     "output_type": "display_data"
    }
   ],
   "source": [
    "sns.histplot( df.loc[df['points_in_wallet']>=0]['points_in_wallet'], kde=True)\n",
    "plt.xlabel('points_in_wallet')\n",
    "plt.ylabel('Count')\n",
    "plt.title('Histogram ')\n",
    "plt.show()"
   ]
  },
  {
   "cell_type": "markdown",
   "metadata": {},
   "source": [
    "3443 dòng có giá trị NaN"
   ]
  },
  {
   "cell_type": "code",
   "execution_count": 37,
   "metadata": {},
   "outputs": [],
   "source": [
    "median_value = df.loc[df['points_in_wallet'] >= 0, 'points_in_wallet'].median()\n",
    "df['points_in_wallet'] = df['points_in_wallet'].mask(df['points_in_wallet'] < 0, median_value)\n",
    "df['points_in_wallet'] = df['points_in_wallet'].fillna(median_value)"
   ]
  },
  {
   "cell_type": "markdown",
   "metadata": {},
   "source": [
    "### churn_risk_score"
   ]
  },
  {
   "cell_type": "code",
   "execution_count": 38,
   "metadata": {},
   "outputs": [],
   "source": [
    "df['churn_risk_score']=df['churn_risk_score'].replace(-1, 1)"
   ]
  },
  {
   "cell_type": "markdown",
   "metadata": {},
   "source": [
    "### Outlier"
   ]
  },
  {
   "cell_type": "code",
   "execution_count": 39,
   "metadata": {},
   "outputs": [
    {
     "data": {
      "image/png": "[encoded data removed]",
      "text/plain": [
       "<Figure size 1600x1600 with 6 Axes>"
      ]
     },
     "metadata": {},
     "output_type": "display_data"
    }
   ],
   "source": [
    "fig = plt.figure(figsize=(16,16))\n",
    "for i in range(len(numerical_features)):\n",
    "    fig.add_subplot(3, 3, i+1)\n",
    "    sns.boxplot(y=df[numerical_features[i]])\n",
    "plt.tight_layout()\n",
    "plt.show()"
   ]
  },
  {
   "cell_type": "code",
   "execution_count": 40,
   "metadata": {},
   "outputs": [],
   "source": [
    "def replace_outliers_iqr(data, column):\n",
    "    Q1 = data[column].quantile(0.25)\n",
    "    Q3 = data[column].quantile(0.75)\n",
    "    IQR = Q3 - Q1\n",
    "    lower_bound = Q1 - 1.50 * IQR\n",
    "    upper_bound = Q3 + 1.50 * IQR\n",
    "    \n",
    "    data[column] = data[column].apply(lambda x: lower_bound if x < lower_bound else upper_bound if x > upper_bound else x)\n",
    "    \n",
    "    return data\n",
    "\n",
    "filtered_df = df.copy()\n",
    "for column in numerical_features:\n",
    "    filtered_df = replace_outliers_iqr(filtered_df, column)\n",
    "df= filtered_df\n"
   ]
  },
  {
   "cell_type": "code",
   "execution_count": 41,
   "metadata": {},
   "outputs": [
    {
     "data": {
      "text/plain": [
       "(36992, 21)"
      ]
     },
     "execution_count": 41,
     "metadata": {},
     "output_type": "execute_result"
    }
   ],
   "source": [
    "df.shape"
   ]
  },
  {
   "cell_type": "code",
   "execution_count": 42,
   "metadata": {},
   "outputs": [
    {
     "data": {
      "text/plain": [
       "churn_risk_score\n",
       "3    10424\n",
       "4    10185\n",
       "5     9827\n",
       "1     3815\n",
       "2     2741\n",
       "Name: count, dtype: int64"
      ]
     },
     "execution_count": 42,
     "metadata": {},
     "output_type": "execute_result"
    }
   ],
   "source": [
    "df['churn_risk_score'].value_counts()"
   ]
  },
  {
   "cell_type": "markdown",
   "metadata": {},
   "source": [
    "## Feature enginerring"
   ]
  },
  {
   "cell_type": "code",
   "execution_count": 43,
   "metadata": {},
   "outputs": [
    {
     "data": {
      "text/html": [
       "<div>\n",
       "<style scoped>\n",
       "    .dataframe tbody tr th:only-of-type {\n",
       "        vertical-align: middle;\n",
       "    }\n",
       "\n",
       "    .dataframe tbody tr th {\n",
       "        vertical-align: top;\n",
       "    }\n",
       "\n",
       "    .dataframe thead th {\n",
       "        text-align: right;\n",
       "    }\n",
       "</style>\n",
       "<table border=\"1\" class=\"dataframe\">\n",
       "  <thead>\n",
       "    <tr style=\"text-align: right;\">\n",
       "      <th></th>\n",
       "      <th>age</th>\n",
       "      <th>gender</th>\n",
       "      <th>region_category</th>\n",
       "      <th>membership_category</th>\n",
       "      <th>joined_through_referral</th>\n",
       "      <th>preferred_offer_types</th>\n",
       "      <th>medium_of_operation</th>\n",
       "      <th>internet_option</th>\n",
       "      <th>last_visit_time</th>\n",
       "      <th>days_since_last_login</th>\n",
       "      <th>avg_time_spent</th>\n",
       "      <th>avg_transaction_value</th>\n",
       "      <th>avg_frequency_login_days</th>\n",
       "      <th>points_in_wallet</th>\n",
       "      <th>used_special_discount</th>\n",
       "      <th>offer_application_preference</th>\n",
       "      <th>past_complaint</th>\n",
       "      <th>complaint_status</th>\n",
       "      <th>feedback</th>\n",
       "      <th>days_since_joined</th>\n",
       "    </tr>\n",
       "  </thead>\n",
       "  <tbody>\n",
       "    <tr>\n",
       "      <th>0</th>\n",
       "      <td>18</td>\n",
       "      <td>F</td>\n",
       "      <td>Village</td>\n",
       "      <td>Platinum Membership</td>\n",
       "      <td>No</td>\n",
       "      <td>Gift Vouchers/Coupons</td>\n",
       "      <td>Smartphone</td>\n",
       "      <td>Wi-Fi</td>\n",
       "      <td>58082</td>\n",
       "      <td>17.0</td>\n",
       "      <td>300.63</td>\n",
       "      <td>53005.25</td>\n",
       "      <td>17.0</td>\n",
       "      <td>781.75</td>\n",
       "      <td>Yes</td>\n",
       "      <td>Yes</td>\n",
       "      <td>No</td>\n",
       "      <td>Not Applicable</td>\n",
       "      <td>Products always in Stock</td>\n",
       "      <td>2146</td>\n",
       "    </tr>\n",
       "    <tr>\n",
       "      <th>1</th>\n",
       "      <td>32</td>\n",
       "      <td>F</td>\n",
       "      <td>City</td>\n",
       "      <td>Premium Membership</td>\n",
       "      <td>Yes</td>\n",
       "      <td>Gift Vouchers/Coupons</td>\n",
       "      <td>Desktop</td>\n",
       "      <td>Mobile_Data</td>\n",
       "      <td>45493</td>\n",
       "      <td>16.0</td>\n",
       "      <td>306.34</td>\n",
       "      <td>12838.38</td>\n",
       "      <td>10.0</td>\n",
       "      <td>698.25</td>\n",
       "      <td>Yes</td>\n",
       "      <td>No</td>\n",
       "      <td>Yes</td>\n",
       "      <td>Solved</td>\n",
       "      <td>Quality Customer Care</td>\n",
       "      <td>2135</td>\n",
       "    </tr>\n",
       "    <tr>\n",
       "      <th>2</th>\n",
       "      <td>44</td>\n",
       "      <td>F</td>\n",
       "      <td>Town</td>\n",
       "      <td>No Membership</td>\n",
       "      <td>Yes</td>\n",
       "      <td>Gift Vouchers/Coupons</td>\n",
       "      <td>Desktop</td>\n",
       "      <td>Wi-Fi</td>\n",
       "      <td>82401</td>\n",
       "      <td>14.0</td>\n",
       "      <td>516.16</td>\n",
       "      <td>21027.00</td>\n",
       "      <td>22.0</td>\n",
       "      <td>500.69</td>\n",
       "      <td>No</td>\n",
       "      <td>Yes</td>\n",
       "      <td>Yes</td>\n",
       "      <td>Solved in Follow-up</td>\n",
       "      <td>Poor Website</td>\n",
       "      <td>2425</td>\n",
       "    </tr>\n",
       "    <tr>\n",
       "      <th>3</th>\n",
       "      <td>37</td>\n",
       "      <td>M</td>\n",
       "      <td>City</td>\n",
       "      <td>No Membership</td>\n",
       "      <td>Yes</td>\n",
       "      <td>Gift Vouchers/Coupons</td>\n",
       "      <td>Desktop</td>\n",
       "      <td>Mobile_Data</td>\n",
       "      <td>57470</td>\n",
       "      <td>11.0</td>\n",
       "      <td>53.27</td>\n",
       "      <td>25239.56</td>\n",
       "      <td>6.0</td>\n",
       "      <td>567.66</td>\n",
       "      <td>No</td>\n",
       "      <td>Yes</td>\n",
       "      <td>Yes</td>\n",
       "      <td>Unsolved</td>\n",
       "      <td>Poor Website</td>\n",
       "      <td>2438</td>\n",
       "    </tr>\n",
       "    <tr>\n",
       "      <th>4</th>\n",
       "      <td>31</td>\n",
       "      <td>F</td>\n",
       "      <td>City</td>\n",
       "      <td>No Membership</td>\n",
       "      <td>No</td>\n",
       "      <td>Credit/Debit Card Offers</td>\n",
       "      <td>Smartphone</td>\n",
       "      <td>Mobile_Data</td>\n",
       "      <td>56804</td>\n",
       "      <td>20.0</td>\n",
       "      <td>113.13</td>\n",
       "      <td>24483.66</td>\n",
       "      <td>16.0</td>\n",
       "      <td>663.06</td>\n",
       "      <td>No</td>\n",
       "      <td>Yes</td>\n",
       "      <td>Yes</td>\n",
       "      <td>Solved</td>\n",
       "      <td>Poor Website</td>\n",
       "      <td>2120</td>\n",
       "    </tr>\n",
       "  </tbody>\n",
       "</table>\n",
       "</div>"
      ],
      "text/plain": [
       "   age gender region_category  membership_category joined_through_referral  \\\n",
       "0   18      F         Village  Platinum Membership                      No   \n",
       "1   32      F            City   Premium Membership                     Yes   \n",
       "2   44      F            Town        No Membership                     Yes   \n",
       "3   37      M            City        No Membership                     Yes   \n",
       "4   31      F            City        No Membership                      No   \n",
       "\n",
       "      preferred_offer_types medium_of_operation internet_option  \\\n",
       "0     Gift Vouchers/Coupons          Smartphone           Wi-Fi   \n",
       "1     Gift Vouchers/Coupons             Desktop     Mobile_Data   \n",
       "2     Gift Vouchers/Coupons             Desktop           Wi-Fi   \n",
       "3     Gift Vouchers/Coupons             Desktop     Mobile_Data   \n",
       "4  Credit/Debit Card Offers          Smartphone     Mobile_Data   \n",
       "\n",
       "   last_visit_time  days_since_last_login  avg_time_spent  \\\n",
       "0            58082                   17.0          300.63   \n",
       "1            45493                   16.0          306.34   \n",
       "2            82401                   14.0          516.16   \n",
       "3            57470                   11.0           53.27   \n",
       "4            56804                   20.0          113.13   \n",
       "\n",
       "   avg_transaction_value  avg_frequency_login_days  points_in_wallet  \\\n",
       "0               53005.25                      17.0            781.75   \n",
       "1               12838.38                      10.0            698.25   \n",
       "2               21027.00                      22.0            500.69   \n",
       "3               25239.56                       6.0            567.66   \n",
       "4               24483.66                      16.0            663.06   \n",
       "\n",
       "  used_special_discount offer_application_preference past_complaint  \\\n",
       "0                   Yes                          Yes             No   \n",
       "1                   Yes                           No            Yes   \n",
       "2                    No                          Yes            Yes   \n",
       "3                    No                          Yes            Yes   \n",
       "4                    No                          Yes            Yes   \n",
       "\n",
       "      complaint_status                  feedback  days_since_joined  \n",
       "0       Not Applicable  Products always in Stock               2146  \n",
       "1               Solved     Quality Customer Care               2135  \n",
       "2  Solved in Follow-up              Poor Website               2425  \n",
       "3             Unsolved              Poor Website               2438  \n",
       "4               Solved              Poor Website               2120  "
      ]
     },
     "execution_count": 43,
     "metadata": {},
     "output_type": "execute_result"
    }
   ],
   "source": [
    "X=df.drop('churn_risk_score', axis=1).copy()\n",
    "X.head()"
   ]
  },
  {
   "cell_type": "code",
   "execution_count": 44,
   "metadata": {},
   "outputs": [],
   "source": [
    "y=df['churn_risk_score'].copy()"
   ]
  },
  {
   "cell_type": "markdown",
   "metadata": {},
   "source": [
    "### One-hot Encoding"
   ]
  },
  {
   "cell_type": "code",
   "execution_count": 45,
   "metadata": {},
   "outputs": [],
   "source": [
    "from sklearn.preprocessing import StandardScaler"
   ]
  },
  {
   "cell_type": "code",
   "execution_count": 46,
   "metadata": {},
   "outputs": [],
   "source": [
    "# Todo: Normalize your data\n",
    "numerical_features = [feature for feature in X.columns if ((X[feature].dtypes != 'O'))]\n",
    "categorical_features = [feature for feature in X.columns if ((X[feature].dtypes == 'object'))]"
   ]
  },
  {
   "cell_type": "code",
   "execution_count": 47,
   "metadata": {},
   "outputs": [],
   "source": [
    "X_cat_scaled=pd.get_dummies(X[categorical_features],columns=categorical_features).astype('int')\n",
    "\n",
    "X=pd.concat([X[numerical_features],X_cat_scaled],axis=1)\n",
    "scaler=StandardScaler()\n",
    "X[numerical_features]=scaler.fit_transform(X[numerical_features])"
   ]
  },
  {
   "cell_type": "code",
   "execution_count": 48,
   "metadata": {},
   "outputs": [
    {
     "data": {
      "text/plain": [
       "(36992, 50)"
      ]
     },
     "execution_count": 48,
     "metadata": {},
     "output_type": "execute_result"
    }
   ],
   "source": [
    "X.shape"
   ]
  },
  {
   "cell_type": "code",
   "execution_count": 49,
   "metadata": {},
   "outputs": [
    {
     "data": {
      "text/html": [
       "<div>\n",
       "<style scoped>\n",
       "    .dataframe tbody tr th:only-of-type {\n",
       "        vertical-align: middle;\n",
       "    }\n",
       "\n",
       "    .dataframe tbody tr th {\n",
       "        vertical-align: top;\n",
       "    }\n",
       "\n",
       "    .dataframe thead th {\n",
       "        text-align: right;\n",
       "    }\n",
       "</style>\n",
       "<table border=\"1\" class=\"dataframe\">\n",
       "  <thead>\n",
       "    <tr style=\"text-align: right;\">\n",
       "      <th></th>\n",
       "      <th>age</th>\n",
       "      <th>last_visit_time</th>\n",
       "      <th>days_since_last_login</th>\n",
       "      <th>avg_time_spent</th>\n",
       "      <th>avg_transaction_value</th>\n",
       "      <th>avg_frequency_login_days</th>\n",
       "      <th>points_in_wallet</th>\n",
       "      <th>days_since_joined</th>\n",
       "      <th>gender_F</th>\n",
       "      <th>gender_M</th>\n",
       "      <th>...</th>\n",
       "      <th>complaint_status_Unsolved</th>\n",
       "      <th>feedback_No reason specified</th>\n",
       "      <th>feedback_Poor Customer Service</th>\n",
       "      <th>feedback_Poor Product Quality</th>\n",
       "      <th>feedback_Poor Website</th>\n",
       "      <th>feedback_Products always in Stock</th>\n",
       "      <th>feedback_Quality Customer Care</th>\n",
       "      <th>feedback_Reasonable Price</th>\n",
       "      <th>feedback_Too many ads</th>\n",
       "      <th>feedback_User Friendly Website</th>\n",
       "    </tr>\n",
       "  </thead>\n",
       "  <tbody>\n",
       "    <tr>\n",
       "      <th>0</th>\n",
       "      <td>-1.204886</td>\n",
       "      <td>0.591103</td>\n",
       "      <td>0.782575</td>\n",
       "      <td>0.197549</td>\n",
       "      <td>1.293096</td>\n",
       "      <td>0.066199</td>\n",
       "      <td>0.756241</td>\n",
       "      <td>-1.286093</td>\n",
       "      <td>1</td>\n",
       "      <td>0</td>\n",
       "      <td>...</td>\n",
       "      <td>0</td>\n",
       "      <td>0</td>\n",
       "      <td>0</td>\n",
       "      <td>0</td>\n",
       "      <td>0</td>\n",
       "      <td>1</td>\n",
       "      <td>0</td>\n",
       "      <td>0</td>\n",
       "      <td>0</td>\n",
       "      <td>0</td>\n",
       "    </tr>\n",
       "    <tr>\n",
       "      <th>1</th>\n",
       "      <td>-0.322562</td>\n",
       "      <td>0.086211</td>\n",
       "      <td>0.598068</td>\n",
       "      <td>0.222367</td>\n",
       "      <td>-0.869337</td>\n",
       "      <td>-0.820491</td>\n",
       "      <td>0.070812</td>\n",
       "      <td>-1.320699</td>\n",
       "      <td>1</td>\n",
       "      <td>0</td>\n",
       "      <td>...</td>\n",
       "      <td>0</td>\n",
       "      <td>0</td>\n",
       "      <td>0</td>\n",
       "      <td>0</td>\n",
       "      <td>0</td>\n",
       "      <td>0</td>\n",
       "      <td>1</td>\n",
       "      <td>0</td>\n",
       "      <td>0</td>\n",
       "      <td>0</td>\n",
       "    </tr>\n",
       "    <tr>\n",
       "      <th>2</th>\n",
       "      <td>0.433715</td>\n",
       "      <td>1.566434</td>\n",
       "      <td>0.229055</td>\n",
       "      <td>1.134341</td>\n",
       "      <td>-0.428492</td>\n",
       "      <td>0.699549</td>\n",
       "      <td>-1.550904</td>\n",
       "      <td>-0.408338</td>\n",
       "      <td>1</td>\n",
       "      <td>0</td>\n",
       "      <td>...</td>\n",
       "      <td>0</td>\n",
       "      <td>0</td>\n",
       "      <td>0</td>\n",
       "      <td>0</td>\n",
       "      <td>1</td>\n",
       "      <td>0</td>\n",
       "      <td>0</td>\n",
       "      <td>0</td>\n",
       "      <td>0</td>\n",
       "      <td>0</td>\n",
       "    </tr>\n",
       "    <tr>\n",
       "      <th>3</th>\n",
       "      <td>-0.007447</td>\n",
       "      <td>0.566558</td>\n",
       "      <td>-0.324464</td>\n",
       "      <td>-0.877590</td>\n",
       "      <td>-0.201704</td>\n",
       "      <td>-1.327171</td>\n",
       "      <td>-1.001166</td>\n",
       "      <td>-0.367439</td>\n",
       "      <td>0</td>\n",
       "      <td>1</td>\n",
       "      <td>...</td>\n",
       "      <td>1</td>\n",
       "      <td>0</td>\n",
       "      <td>0</td>\n",
       "      <td>0</td>\n",
       "      <td>1</td>\n",
       "      <td>0</td>\n",
       "      <td>0</td>\n",
       "      <td>0</td>\n",
       "      <td>0</td>\n",
       "      <td>0</td>\n",
       "    </tr>\n",
       "    <tr>\n",
       "      <th>4</th>\n",
       "      <td>-0.385585</td>\n",
       "      <td>0.539848</td>\n",
       "      <td>1.336094</td>\n",
       "      <td>-0.617411</td>\n",
       "      <td>-0.242399</td>\n",
       "      <td>-0.060471</td>\n",
       "      <td>-0.218053</td>\n",
       "      <td>-1.367890</td>\n",
       "      <td>1</td>\n",
       "      <td>0</td>\n",
       "      <td>...</td>\n",
       "      <td>0</td>\n",
       "      <td>0</td>\n",
       "      <td>0</td>\n",
       "      <td>0</td>\n",
       "      <td>1</td>\n",
       "      <td>0</td>\n",
       "      <td>0</td>\n",
       "      <td>0</td>\n",
       "      <td>0</td>\n",
       "      <td>0</td>\n",
       "    </tr>\n",
       "  </tbody>\n",
       "</table>\n",
       "<p>5 rows × 50 columns</p>\n",
       "</div>"
      ],
      "text/plain": [
       "        age  last_visit_time  days_since_last_login  avg_time_spent  \\\n",
       "0 -1.204886         0.591103               0.782575        0.197549   \n",
       "1 -0.322562         0.086211               0.598068        0.222367   \n",
       "2  0.433715         1.566434               0.229055        1.134341   \n",
       "3 -0.007447         0.566558              -0.324464       -0.877590   \n",
       "4 -0.385585         0.539848               1.336094       -0.617411   \n",
       "\n",
       "   avg_transaction_value  avg_frequency_login_days  points_in_wallet  \\\n",
       "0               1.293096                  0.066199          0.756241   \n",
       "1              -0.869337                 -0.820491          0.070812   \n",
       "2              -0.428492                  0.699549         -1.550904   \n",
       "3              -0.201704                 -1.327171         -1.001166   \n",
       "4              -0.242399                 -0.060471         -0.218053   \n",
       "\n",
       "   days_since_joined  gender_F  gender_M  ...  complaint_status_Unsolved  \\\n",
       "0          -1.286093         1         0  ...                          0   \n",
       "1          -1.320699         1         0  ...                          0   \n",
       "2          -0.408338         1         0  ...                          0   \n",
       "3          -0.367439         0         1  ...                          1   \n",
       "4          -1.367890         1         0  ...                          0   \n",
       "\n",
       "   feedback_No reason specified  feedback_Poor Customer Service  \\\n",
       "0                             0                               0   \n",
       "1                             0                               0   \n",
       "2                             0                               0   \n",
       "3                             0                               0   \n",
       "4                             0                               0   \n",
       "\n",
       "   feedback_Poor Product Quality  feedback_Poor Website  \\\n",
       "0                              0                      0   \n",
       "1                              0                      0   \n",
       "2                              0                      1   \n",
       "3                              0                      1   \n",
       "4                              0                      1   \n",
       "\n",
       "   feedback_Products always in Stock  feedback_Quality Customer Care  \\\n",
       "0                                  1                               0   \n",
       "1                                  0                               1   \n",
       "2                                  0                               0   \n",
       "3                                  0                               0   \n",
       "4                                  0                               0   \n",
       "\n",
       "   feedback_Reasonable Price  feedback_Too many ads  \\\n",
       "0                          0                      0   \n",
       "1                          0                      0   \n",
       "2                          0                      0   \n",
       "3                          0                      0   \n",
       "4                          0                      0   \n",
       "\n",
       "   feedback_User Friendly Website  \n",
       "0                               0  \n",
       "1                               0  \n",
       "2                               0  \n",
       "3                               0  \n",
       "4                               0  \n",
       "\n",
       "[5 rows x 50 columns]"
      ]
     },
     "execution_count": 49,
     "metadata": {},
     "output_type": "execute_result"
    }
   ],
   "source": [
    "X.head()"
   ]
  },
  {
   "cell_type": "markdown",
   "metadata": {},
   "source": [
    "## Train-test split"
   ]
  },
  {
   "cell_type": "code",
   "execution_count": 50,
   "metadata": {},
   "outputs": [],
   "source": [
    "from sklearn.model_selection import train_test_split\n",
    "RANDOM_STATE = 223\n",
    "TRAIN_SIZE = 0.7\n",
    "\n",
    "trainX, testX ,trainY, testY = train_test_split(X, y, train_size=TRAIN_SIZE, random_state=RANDOM_STATE)"
   ]
  },
  {
   "cell_type": "markdown",
   "metadata": {},
   "source": [
    "## Build  model"
   ]
  },
  {
   "cell_type": "code",
   "execution_count": 51,
   "metadata": {},
   "outputs": [
    {
     "name": "stdout",
     "output_type": "stream",
     "text": [
      "Accuracy: 0.7213912416651649\n",
      "Akurasi model SVM 72.14 %\n",
      "Report Metrics SVM \n",
      "               precision    recall  f1-score   support\n",
      "\n",
      "           1       0.59      0.69      0.64      1160\n",
      "           2       0.80      0.31      0.45       829\n",
      "           3       0.87      0.90      0.88      3077\n",
      "           4       0.76      0.39      0.51      3020\n",
      "           5       0.64      1.00      0.78      3012\n",
      "\n",
      "    accuracy                           0.72     11098\n",
      "   macro avg       0.73      0.66      0.65     11098\n",
      "weighted avg       0.74      0.72      0.70     11098\n",
      "\n",
      "Confuction Matrix SVM \n"
     ]
    },
    {
     "data": {
      "image/png": "[encoded data removed]",
      "text/plain": [
       "<Figure size 640x480 with 2 Axes>"
      ]
     },
     "metadata": {},
     "output_type": "display_data"
    }
   ],
   "source": [
    "from sklearn.svm import SVC\n",
    "from sklearn.pipeline import make_pipeline\n",
    "from sklearn.preprocessing import StandardScaler\n",
    "from sklearn.model_selection import GridSearchCV\n",
    "from sklearn.metrics import accuracy_score\n",
    "from sklearn.metrics import classification_report\n",
    "from sklearn.metrics import confusion_matrix\n",
    "\n",
    "# Xây dựng pipeline với StandardScaler và mô hình SVM\n",
    "pipeline = make_pipeline(StandardScaler(), SVC(kernel= 'linear', C=1.0, gamma='scale'))\n",
    "\n",
    "# Huấn luyện mô hình\n",
    "pipeline.fit(trainX, trainY)\n",
    "\n",
    "# Dự đoán nhãn cho dữ liệu kiểm tra\n",
    "predY = pipeline.predict(testX)\n",
    "\n",
    "# Đánh giá mô hình\n",
    "accuracy = accuracy_score(testY, predY)\n",
    "print('Accuracy:', accuracy)\n",
    "akurasiSVM = accuracy_score(testY, predY)\n",
    "print('Akurasi model SVM', \"{:.2f}\".format(akurasiSVM * 100),'%')\n",
    "print(f\"Report Metrics SVM \\n {classification_report(testY, predY)}\")\n",
    "\n",
    "print(f\"Confuction Matrix SVM \")\n",
    "ax= plt.subplot()\n",
    "sns.heatmap(confusion_matrix(testY, predY), annot=True, ax = ax, fmt = 'g', cmap='Greens')\n",
    "ax.set_xlabel('Predicted label')\n",
    "ax.set_ylabel('Actual label')\n",
    "plt.show()\n"
   ]
  },
  {
   "cell_type": "code",
   "execution_count": 52,
   "metadata": {},
   "outputs": [],
   "source": [
    "from sklearn.svm import SVC\n",
    "from sklearn.pipeline import make_pipeline\n",
    "from sklearn.preprocessing import StandardScaler\n",
    "from sklearn.model_selection import GridSearchCV\n",
    "from sklearn.metrics import accuracy_score\n",
    "from sklearn.metrics import classification_report\n",
    "from sklearn.metrics import confusion_matrix\n",
    "# Xây dựng pipeline với StandardScaler và mô hình SVM\n",
    "pipeline = make_pipeline(StandardScaler(), SVC())\n",
    "# Tạo một dict chứa các giá trị để tinh chỉnh\n",
    "param_grid = {\n",
    "    'svc__kernel': ['linear', 'rbf', 'poly'],\n",
    "    'svc__C': [0.1, 1.0, 10.0],\n",
    "    'svc__gamma': ['scale', 'auto']\n",
    "}\n",
    "\n",
    "# Tạo GridSearchCV để tìm kiếm các tham số tốt nhất\n",
    "grid_search = GridSearchCV(pipeline, param_grid, cv=5)\n",
    "\n",
    "# Huấn luyện mô hình với tìm kiếm lưới\n",
    "grid_search.fit(trainX, trainY)\n",
    "\n",
    "# Lấy mô hình tốt nhất từ tìm kiếm lưới\n",
    "best_model = grid_search.best_estimator_\n",
    "\n",
    "# Dự đoán nhãn cho dữ liệu kiểm tra\n",
    "predY = best_model.predict(testX)\n",
    "\n",
    "# Đánh giá mô hình\n",
    "accuracy = accuracy_score(testY, predY)\n",
    "print('Accuracy:', accuracy)\n",
    "akurasiSVM = accuracy_score(testY, predY)\n",
    "print('Akurasi model SVM', \"{:.2f}\".format(akurasiSVM * 100),'%')\n",
    "print(f\"Report Metrics SVM \\n {classification_report(testY, predY)}\")\n",
    "\n",
    "print(f\"Confuction Matrix SVM \")\n",
    "ax= plt.subplot()\n",
    "sns.heatmap(confusion_matrix(testY, predY), annot=True, ax = ax, fmt = 'g', cmap='Greens')\n",
    "ax.set_xlabel('Predicted label')\n",
    "ax.set_ylabel('Actual label')\n",
    "plt.show()"
   ]
  }
 ],
 "metadata": {
  "kernelspec": {
   "display_name": "Python 3 (ipykernel)",
   "language": "python",
   "name": "python3"
  },
  "language_info": {
   "codemirror_mode": {
    "name": "ipython",
    "version": 3
   },
   "file_extension": ".py",
   "mimetype": "text/x-python",
   "name": "python",
   "nbconvert_exporter": "python",
   "pygments_lexer": "ipython3",
   "version": "3.11.2"
  }
 },
 "nbformat": 4,
 "nbformat_minor": 2
}

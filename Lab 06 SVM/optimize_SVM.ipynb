{
 "cells": [
  {
   "cell_type": "code",
   "execution_count": 567,
   "metadata": {},
   "outputs": [
    {
     "data": {
      "text/plain": [
       "(36992, 25)"
      ]
     },
     "execution_count": 567,
     "metadata": {},
     "output_type": "execute_result"
    }
   ],
   "source": [
    "import pandas as pd\n",
    "import numpy as np\n",
    "import seaborn as sns\n",
    "\n",
    "import matplotlib.pyplot as plt\n",
    "df = pd.read_csv('churn_rate_prediction.csv')\n",
    "df.shape"
   ]
  },
  {
   "cell_type": "code",
   "execution_count": 568,
   "metadata": {},
   "outputs": [
    {
     "data": {
      "text/plain": [
       "customer_id                        0\n",
       "Name                               0\n",
       "age                                0\n",
       "gender                             0\n",
       "security_no                        0\n",
       "region_category                 5428\n",
       "membership_category                0\n",
       "joining_date                       0\n",
       "joined_through_referral            0\n",
       "referral_id                        0\n",
       "preferred_offer_types            288\n",
       "medium_of_operation                0\n",
       "internet_option                    0\n",
       "last_visit_time                    0\n",
       "days_since_last_login              0\n",
       "avg_time_spent                     0\n",
       "avg_transaction_value              0\n",
       "avg_frequency_login_days           0\n",
       "points_in_wallet                3443\n",
       "used_special_discount              0\n",
       "offer_application_preference       0\n",
       "past_complaint                     0\n",
       "complaint_status                   0\n",
       "feedback                           0\n",
       "churn_risk_score                   0\n",
       "dtype: int64"
      ]
     },
     "execution_count": 568,
     "metadata": {},
     "output_type": "execute_result"
    }
   ],
   "source": [
    "# Check tong quan bo du lieu\n",
    "df.isnull().sum()"
   ]
  },
  {
   "cell_type": "code",
   "execution_count": 569,
   "metadata": {},
   "outputs": [
    {
     "data": {
      "text/html": [
       "<div>\n",
       "<style scoped>\n",
       "    .dataframe tbody tr th:only-of-type {\n",
       "        vertical-align: middle;\n",
       "    }\n",
       "\n",
       "    .dataframe tbody tr th {\n",
       "        vertical-align: top;\n",
       "    }\n",
       "\n",
       "    .dataframe thead th {\n",
       "        text-align: right;\n",
       "    }\n",
       "</style>\n",
       "<table border=\"1\" class=\"dataframe\">\n",
       "  <thead>\n",
       "    <tr style=\"text-align: right;\">\n",
       "      <th></th>\n",
       "      <th>age</th>\n",
       "      <th>days_since_last_login</th>\n",
       "      <th>avg_time_spent</th>\n",
       "      <th>avg_transaction_value</th>\n",
       "      <th>points_in_wallet</th>\n",
       "      <th>churn_risk_score</th>\n",
       "    </tr>\n",
       "  </thead>\n",
       "  <tbody>\n",
       "    <tr>\n",
       "      <th>count</th>\n",
       "      <td>36992.000000</td>\n",
       "      <td>36992.000000</td>\n",
       "      <td>36992.000000</td>\n",
       "      <td>36992.000000</td>\n",
       "      <td>33549.000000</td>\n",
       "      <td>36992.000000</td>\n",
       "    </tr>\n",
       "    <tr>\n",
       "      <th>mean</th>\n",
       "      <td>37.118161</td>\n",
       "      <td>-41.915576</td>\n",
       "      <td>243.472334</td>\n",
       "      <td>29271.194003</td>\n",
       "      <td>686.882199</td>\n",
       "      <td>3.463397</td>\n",
       "    </tr>\n",
       "    <tr>\n",
       "      <th>std</th>\n",
       "      <td>15.867412</td>\n",
       "      <td>228.819900</td>\n",
       "      <td>398.289149</td>\n",
       "      <td>19444.806226</td>\n",
       "      <td>194.063624</td>\n",
       "      <td>1.409661</td>\n",
       "    </tr>\n",
       "    <tr>\n",
       "      <th>min</th>\n",
       "      <td>10.000000</td>\n",
       "      <td>-999.000000</td>\n",
       "      <td>-2814.109110</td>\n",
       "      <td>800.460000</td>\n",
       "      <td>-760.661236</td>\n",
       "      <td>-1.000000</td>\n",
       "    </tr>\n",
       "    <tr>\n",
       "      <th>25%</th>\n",
       "      <td>23.000000</td>\n",
       "      <td>8.000000</td>\n",
       "      <td>60.102500</td>\n",
       "      <td>14177.540000</td>\n",
       "      <td>616.150000</td>\n",
       "      <td>3.000000</td>\n",
       "    </tr>\n",
       "    <tr>\n",
       "      <th>50%</th>\n",
       "      <td>37.000000</td>\n",
       "      <td>12.000000</td>\n",
       "      <td>161.765000</td>\n",
       "      <td>27554.485000</td>\n",
       "      <td>697.620000</td>\n",
       "      <td>4.000000</td>\n",
       "    </tr>\n",
       "    <tr>\n",
       "      <th>75%</th>\n",
       "      <td>51.000000</td>\n",
       "      <td>16.000000</td>\n",
       "      <td>356.515000</td>\n",
       "      <td>40855.110000</td>\n",
       "      <td>763.950000</td>\n",
       "      <td>5.000000</td>\n",
       "    </tr>\n",
       "    <tr>\n",
       "      <th>max</th>\n",
       "      <td>64.000000</td>\n",
       "      <td>26.000000</td>\n",
       "      <td>3235.578521</td>\n",
       "      <td>99914.050000</td>\n",
       "      <td>2069.069761</td>\n",
       "      <td>5.000000</td>\n",
       "    </tr>\n",
       "  </tbody>\n",
       "</table>\n",
       "</div>"
      ],
      "text/plain": [
       "                age  days_since_last_login  avg_time_spent   \n",
       "count  36992.000000           36992.000000    36992.000000  \\\n",
       "mean      37.118161             -41.915576      243.472334   \n",
       "std       15.867412             228.819900      398.289149   \n",
       "min       10.000000            -999.000000    -2814.109110   \n",
       "25%       23.000000               8.000000       60.102500   \n",
       "50%       37.000000              12.000000      161.765000   \n",
       "75%       51.000000              16.000000      356.515000   \n",
       "max       64.000000              26.000000     3235.578521   \n",
       "\n",
       "       avg_transaction_value  points_in_wallet  churn_risk_score  \n",
       "count           36992.000000      33549.000000      36992.000000  \n",
       "mean            29271.194003        686.882199          3.463397  \n",
       "std             19444.806226        194.063624          1.409661  \n",
       "min               800.460000       -760.661236         -1.000000  \n",
       "25%             14177.540000        616.150000          3.000000  \n",
       "50%             27554.485000        697.620000          4.000000  \n",
       "75%             40855.110000        763.950000          5.000000  \n",
       "max             99914.050000       2069.069761          5.000000  "
      ]
     },
     "execution_count": 569,
     "metadata": {},
     "output_type": "execute_result"
    }
   ],
   "source": [
    "df.describe()"
   ]
  },
  {
   "cell_type": "code",
   "execution_count": 570,
   "metadata": {},
   "outputs": [
    {
     "data": {
      "text/plain": [
       "['customer_id',\n",
       " 'Name',\n",
       " 'gender',\n",
       " 'security_no',\n",
       " 'region_category',\n",
       " 'membership_category',\n",
       " 'joining_date',\n",
       " 'joined_through_referral',\n",
       " 'referral_id',\n",
       " 'preferred_offer_types',\n",
       " 'medium_of_operation',\n",
       " 'internet_option',\n",
       " 'last_visit_time',\n",
       " 'avg_frequency_login_days',\n",
       " 'used_special_discount',\n",
       " 'offer_application_preference',\n",
       " 'past_complaint',\n",
       " 'complaint_status',\n",
       " 'feedback']"
      ]
     },
     "execution_count": 570,
     "metadata": {},
     "output_type": "execute_result"
    }
   ],
   "source": [
    "# Lay cac cot numeric va categorical\n",
    "categorical_features = [feature for feature in df.columns if ((df[feature].dtypes == 'object') & (feature != 'y'))]\n",
    "categorical_features"
   ]
  },
  {
   "attachments": {},
   "cell_type": "markdown",
   "metadata": {},
   "source": [
    "Xem qua bộ dữ liệu bao gồm những giá trị gì và số lượng"
   ]
  },
  {
   "cell_type": "code",
   "execution_count": 571,
   "metadata": {},
   "outputs": [
    {
     "name": "stdout",
     "output_type": "stream",
     "text": [
      "customer_id : 36992\n",
      "Name : 36992\n",
      "gender : ['F' 'M' 'Unknown'] 3\n",
      "security_no : 36992\n",
      "region_category : ['Village' 'City' 'Town' nan] 4\n",
      "membership_category : ['Platinum Membership' 'Premium Membership' 'No Membership'\n",
      " 'Gold Membership' 'Silver Membership' 'Basic Membership'] 6\n",
      "joining_date : 1096\n",
      "joined_through_referral : ['No' '?' 'Yes'] 3\n",
      "referral_id : 11359\n",
      "preferred_offer_types : ['Gift Vouchers/Coupons' 'Credit/Debit Card Offers' 'Without Offers' nan] 4\n",
      "medium_of_operation : ['?' 'Desktop' 'Smartphone' 'Both'] 4\n",
      "internet_option : ['Wi-Fi' 'Mobile_Data' 'Fiber_Optic'] 3\n",
      "last_visit_time : 30101\n",
      "avg_frequency_login_days : 1654\n",
      "used_special_discount : ['Yes' 'No'] 2\n",
      "offer_application_preference : ['Yes' 'No'] 2\n",
      "past_complaint : ['No' 'Yes'] 2\n",
      "complaint_status : ['Not Applicable' 'Solved' 'Solved in Follow-up' 'Unsolved'\n",
      " 'No Information Available'] 5\n",
      "feedback : 9\n"
     ]
    }
   ],
   "source": [
    "for values in categorical_features:\n",
    "    if(len(df[values].unique()) < 7):\n",
    "        print(values,':',df[values].unique(), len(df[values].unique()))\n",
    "    else:\n",
    "        print(values, ':', len(df[values].unique()))"
   ]
  },
  {
   "cell_type": "code",
   "execution_count": 572,
   "metadata": {},
   "outputs": [
    {
     "data": {
      "text/plain": [
       "12"
      ]
     },
     "execution_count": 572,
     "metadata": {},
     "output_type": "execute_result"
    }
   ],
   "source": [
    "col_categorical=['customer_id','Name','gender','security_no','region_category','joining_date','joined_through_referral','referral_id', 'preferred_offer_types', 'medium_of_operation','last_visit_time', 'avg_frequency_login_days']\n",
    "len(col_categorical)"
   ]
  },
  {
   "cell_type": "code",
   "execution_count": 573,
   "metadata": {},
   "outputs": [
    {
     "data": {
      "text/plain": [
       "['age',\n",
       " 'days_since_last_login',\n",
       " 'avg_time_spent',\n",
       " 'avg_transaction_value',\n",
       " 'points_in_wallet',\n",
       " 'churn_risk_score']"
      ]
     },
     "execution_count": 573,
     "metadata": {},
     "output_type": "execute_result"
    }
   ],
   "source": [
    "numerical_features = [feature for feature in df.columns if ((df[feature].dtypes != 'O') & (feature not in ['y']))]\n",
    "numerical_features"
   ]
  },
  {
   "cell_type": "code",
   "execution_count": 574,
   "metadata": {},
   "outputs": [
    {
     "name": "stdout",
     "output_type": "stream",
     "text": [
      "age : 55\n",
      "days_since_last_login : 27\n",
      "avg_time_spent : 25961\n",
      "avg_transaction_value : 36894\n",
      "points_in_wallet : 23700\n",
      "churn_risk_score : [ 2  1  5  3  4 -1] 6\n"
     ]
    }
   ],
   "source": [
    "for values in numerical_features:\n",
    "    if(len(df[values].unique()) < 7):\n",
    "        print(values,':',df[values].unique(), len(df[values].unique()))\n",
    "    else:\n",
    "        print(values, ':', len(df[values].unique()))"
   ]
  },
  {
   "attachments": {},
   "cell_type": "markdown",
   "metadata": {},
   "source": [
    "Các cột cần quan tâm đến vì có những giá trị bất thường"
   ]
  },
  {
   "cell_type": "code",
   "execution_count": 575,
   "metadata": {},
   "outputs": [
    {
     "data": {
      "text/plain": [
       "age                         0\n",
       "days_since_last_login       0\n",
       "avg_time_spent              0\n",
       "avg_transaction_value       0\n",
       "points_in_wallet         3443\n",
       "churn_risk_score            0\n",
       "dtype: int64"
      ]
     },
     "execution_count": 575,
     "metadata": {},
     "output_type": "execute_result"
    }
   ],
   "source": [
    "df[numerical_features].isnull().sum()"
   ]
  },
  {
   "attachments": {},
   "cell_type": "markdown",
   "metadata": {},
   "source": [
    "### Dealing with categorical columns"
   ]
  },
  {
   "cell_type": "code",
   "execution_count": 576,
   "metadata": {},
   "outputs": [
    {
     "data": {
      "text/plain": [
       "['customer_id',\n",
       " 'Name',\n",
       " 'gender',\n",
       " 'security_no',\n",
       " 'region_category',\n",
       " 'joining_date',\n",
       " 'joined_through_referral',\n",
       " 'referral_id',\n",
       " 'preferred_offer_types',\n",
       " 'medium_of_operation',\n",
       " 'last_visit_time',\n",
       " 'avg_frequency_login_days']"
      ]
     },
     "execution_count": 576,
     "metadata": {},
     "output_type": "execute_result"
    }
   ],
   "source": [
    "col_categorical"
   ]
  },
  {
   "attachments": {},
   "cell_type": "markdown",
   "metadata": {},
   "source": [
    "customer_id"
   ]
  },
  {
   "cell_type": "code",
   "execution_count": 577,
   "metadata": {},
   "outputs": [
    {
     "data": {
      "text/plain": [
       "(36992, 24)"
      ]
     },
     "execution_count": 577,
     "metadata": {},
     "output_type": "execute_result"
    }
   ],
   "source": [
    "df.drop('customer_id', axis=1, inplace=True)\n",
    "df.shape"
   ]
  },
  {
   "attachments": {},
   "cell_type": "markdown",
   "metadata": {},
   "source": [
    "Name"
   ]
  },
  {
   "cell_type": "code",
   "execution_count": 578,
   "metadata": {},
   "outputs": [
    {
     "data": {
      "text/plain": [
       "(36992, 23)"
      ]
     },
     "execution_count": 578,
     "metadata": {},
     "output_type": "execute_result"
    }
   ],
   "source": [
    "df.drop('Name', axis=1, inplace=True)\n",
    "df.shape"
   ]
  },
  {
   "attachments": {},
   "cell_type": "markdown",
   "metadata": {},
   "source": [
    "gender"
   ]
  },
  {
   "cell_type": "code",
   "execution_count": 579,
   "metadata": {},
   "outputs": [
    {
     "data": {
      "text/plain": [
       "gender\n",
       "F          18490\n",
       "M          18443\n",
       "Unknown       59\n",
       "Name: count, dtype: int64"
      ]
     },
     "execution_count": 579,
     "metadata": {},
     "output_type": "execute_result"
    }
   ],
   "source": [
    "df['gender'].value_counts()"
   ]
  },
  {
   "cell_type": "code",
   "execution_count": 580,
   "metadata": {},
   "outputs": [
    {
     "data": {
      "text/plain": [
       "gender\n",
       "F    18549\n",
       "M    18443\n",
       "Name: count, dtype: int64"
      ]
     },
     "execution_count": 580,
     "metadata": {},
     "output_type": "execute_result"
    }
   ],
   "source": [
    "df['gender'] = df['gender'].replace('Unknown','F')\n",
    "df['gender'].value_counts()"
   ]
  },
  {
   "attachments": {},
   "cell_type": "markdown",
   "metadata": {},
   "source": [
    "security_no"
   ]
  },
  {
   "cell_type": "code",
   "execution_count": 581,
   "metadata": {},
   "outputs": [
    {
     "data": {
      "text/plain": [
       "(36992, 22)"
      ]
     },
     "execution_count": 581,
     "metadata": {},
     "output_type": "execute_result"
    }
   ],
   "source": [
    "df.drop('security_no', axis=1, inplace=True)\n",
    "df.shape"
   ]
  },
  {
   "attachments": {},
   "cell_type": "markdown",
   "metadata": {},
   "source": [
    "region_category"
   ]
  },
  {
   "cell_type": "code",
   "execution_count": 582,
   "metadata": {},
   "outputs": [
    {
     "data": {
      "text/plain": [
       "region_category\n",
       "Town       14128\n",
       "City       12737\n",
       "Village     4699\n",
       "Name: count, dtype: int64"
      ]
     },
     "execution_count": 582,
     "metadata": {},
     "output_type": "execute_result"
    }
   ],
   "source": [
    "df['region_category'].value_counts()"
   ]
  },
  {
   "cell_type": "code",
   "execution_count": 583,
   "metadata": {},
   "outputs": [
    {
     "data": {
      "text/plain": [
       "5428"
      ]
     },
     "execution_count": 583,
     "metadata": {},
     "output_type": "execute_result"
    }
   ],
   "source": [
    "df['region_category'].isnull().sum()"
   ]
  },
  {
   "cell_type": "code",
   "execution_count": 584,
   "metadata": {},
   "outputs": [
    {
     "data": {
      "text/plain": [
       "region_category\n",
       "Town       19556\n",
       "City       12737\n",
       "Village     4699\n",
       "Name: count, dtype: int64"
      ]
     },
     "execution_count": 584,
     "metadata": {},
     "output_type": "execute_result"
    }
   ],
   "source": [
    "df['region_category'] = df['region_category'].fillna(df['region_category'].mode()[0])\n",
    "df['region_category'].value_counts()"
   ]
  },
  {
   "attachments": {},
   "cell_type": "markdown",
   "metadata": {},
   "source": [
    "# joining_date"
   ]
  },
  {
   "cell_type": "code",
   "execution_count": 585,
   "metadata": {},
   "outputs": [
    {
     "data": {
      "text/plain": [
       "joining_date\n",
       "2015-06-02    55\n",
       "2015-07-04    51\n",
       "2015-06-21    50\n",
       "2015-06-26    49\n",
       "2016-08-03    49\n",
       "              ..\n",
       "2016-03-16    19\n",
       "2016-06-03    18\n",
       "2015-09-12    18\n",
       "2017-07-03    18\n",
       "2015-03-04    16\n",
       "Name: count, Length: 1096, dtype: int64"
      ]
     },
     "execution_count": 585,
     "metadata": {},
     "output_type": "execute_result"
    }
   ],
   "source": [
    "df['joining_date'].value_counts()"
   ]
  },
  {
   "cell_type": "code",
   "execution_count": 586,
   "metadata": {},
   "outputs": [],
   "source": [
    "df['joining_date'] = pd.to_datetime(df['joining_date'])\n",
    "df['days_since_joined'] = df['joining_date'].apply(lambda x:(pd.Timestamp('today') - x).days)\n",
    "df.drop(['joining_date'], inplace=True, axis=1)"
   ]
  },
  {
   "attachments": {},
   "cell_type": "markdown",
   "metadata": {},
   "source": [
    "joined_through_referral"
   ]
  },
  {
   "cell_type": "code",
   "execution_count": 587,
   "metadata": {},
   "outputs": [
    {
     "data": {
      "text/plain": [
       "joined_through_referral\n",
       "No     15839\n",
       "Yes    15715\n",
       "?       5438\n",
       "Name: count, dtype: int64"
      ]
     },
     "execution_count": 587,
     "metadata": {},
     "output_type": "execute_result"
    }
   ],
   "source": [
    "df['joined_through_referral'].value_counts()"
   ]
  },
  {
   "cell_type": "code",
   "execution_count": 588,
   "metadata": {},
   "outputs": [
    {
     "data": {
      "text/plain": [
       "joined_through_referral\n",
       "Yes    21153\n",
       "No     15839\n",
       "Name: count, dtype: int64"
      ]
     },
     "execution_count": 588,
     "metadata": {},
     "output_type": "execute_result"
    }
   ],
   "source": [
    "df['joined_through_referral']=df['joined_through_referral'].replace('?','Yes')\n",
    "df['joined_through_referral'].value_counts()"
   ]
  },
  {
   "attachments": {},
   "cell_type": "markdown",
   "metadata": {},
   "source": [
    "referral_id"
   ]
  },
  {
   "cell_type": "code",
   "execution_count": 589,
   "metadata": {},
   "outputs": [
    {
     "data": {
      "text/plain": [
       "referral_id\n",
       "xxxxxxxx    17846\n",
       "CID43705       12\n",
       "CID3979        11\n",
       "CID49601       10\n",
       "CID15792        9\n",
       "            ...  \n",
       "CID28755        1\n",
       "CID62237        1\n",
       "CID23663        1\n",
       "CID23071        1\n",
       "CID45477        1\n",
       "Name: count, Length: 11359, dtype: int64"
      ]
     },
     "execution_count": 589,
     "metadata": {},
     "output_type": "execute_result"
    }
   ],
   "source": [
    "df['referral_id'].value_counts()"
   ]
  },
  {
   "cell_type": "code",
   "execution_count": 590,
   "metadata": {},
   "outputs": [],
   "source": [
    "df.drop('referral_id', axis=1, inplace=True)"
   ]
  },
  {
   "attachments": {},
   "cell_type": "markdown",
   "metadata": {},
   "source": [
    "preferred_offer_type"
   ]
  },
  {
   "cell_type": "code",
   "execution_count": 591,
   "metadata": {},
   "outputs": [
    {
     "data": {
      "text/plain": [
       "preferred_offer_types\n",
       "Gift Vouchers/Coupons       12349\n",
       "Credit/Debit Card Offers    12274\n",
       "Without Offers              12081\n",
       "Name: count, dtype: int64"
      ]
     },
     "execution_count": 591,
     "metadata": {},
     "output_type": "execute_result"
    }
   ],
   "source": [
    "df['preferred_offer_types'].value_counts()"
   ]
  },
  {
   "cell_type": "code",
   "execution_count": 592,
   "metadata": {},
   "outputs": [
    {
     "data": {
      "text/plain": [
       "288"
      ]
     },
     "execution_count": 592,
     "metadata": {},
     "output_type": "execute_result"
    }
   ],
   "source": [
    "df['preferred_offer_types'].isnull().sum()"
   ]
  },
  {
   "cell_type": "code",
   "execution_count": 593,
   "metadata": {},
   "outputs": [
    {
     "data": {
      "text/plain": [
       "preferred_offer_types\n",
       "Gift Vouchers/Coupons       12637\n",
       "Credit/Debit Card Offers    12274\n",
       "Without Offers              12081\n",
       "Name: count, dtype: int64"
      ]
     },
     "execution_count": 593,
     "metadata": {},
     "output_type": "execute_result"
    }
   ],
   "source": [
    "df['preferred_offer_types'] = df['preferred_offer_types'].fillna(df['preferred_offer_types'].mode()[0])\n",
    "df['preferred_offer_types'].value_counts()"
   ]
  },
  {
   "attachments": {},
   "cell_type": "markdown",
   "metadata": {},
   "source": [
    "medium_of_operation"
   ]
  },
  {
   "cell_type": "code",
   "execution_count": 594,
   "metadata": {},
   "outputs": [
    {
     "data": {
      "text/plain": [
       "medium_of_operation\n",
       "Desktop       13913\n",
       "Smartphone    13876\n",
       "?              5393\n",
       "Both           3810\n",
       "Name: count, dtype: int64"
      ]
     },
     "execution_count": 594,
     "metadata": {},
     "output_type": "execute_result"
    }
   ],
   "source": [
    "df['medium_of_operation'].value_counts()"
   ]
  },
  {
   "cell_type": "code",
   "execution_count": 595,
   "metadata": {},
   "outputs": [
    {
     "data": {
      "text/plain": [
       "medium_of_operation\n",
       "Desktop       13913\n",
       "Smartphone    13876\n",
       "Both           9203\n",
       "Name: count, dtype: int64"
      ]
     },
     "execution_count": 595,
     "metadata": {},
     "output_type": "execute_result"
    }
   ],
   "source": [
    "df['medium_of_operation']=df['medium_of_operation'].replace('?', 'Both')\n",
    "df['medium_of_operation'].value_counts()"
   ]
  },
  {
   "attachments": {},
   "cell_type": "markdown",
   "metadata": {},
   "source": [
    "last_visit_time"
   ]
  },
  {
   "cell_type": "code",
   "execution_count": 596,
   "metadata": {},
   "outputs": [
    {
     "data": {
      "text/plain": [
       "last_visit_time\n",
       "07:56:41    6\n",
       "17:11:53    5\n",
       "22:31:06    5\n",
       "02:50:54    5\n",
       "12:30:02    5\n",
       "           ..\n",
       "21:48:50    1\n",
       "07:53:40    1\n",
       "00:05:51    1\n",
       "10:48:11    1\n",
       "01:39:52    1\n",
       "Name: count, Length: 30101, dtype: int64"
      ]
     },
     "execution_count": 596,
     "metadata": {},
     "output_type": "execute_result"
    }
   ],
   "source": [
    "df['last_visit_time'].value_counts()"
   ]
  },
  {
   "cell_type": "code",
   "execution_count": 597,
   "metadata": {},
   "outputs": [],
   "source": [
    "from datetime import datetime\n",
    "def time_to_seconds(time_str):\n",
    "    time_obj = datetime.strptime(time_str, \"%H:%M:%S\")\n",
    "    total_seconds = time_obj.hour * 3600 + time_obj.minute * 60 + time_obj.second\n",
    "    return total_seconds\n",
    "df[\"last_visit_time\"] = df[\"last_visit_time\"].apply(time_to_seconds).fillna(0).astype(int)"
   ]
  },
  {
   "attachments": {},
   "cell_type": "markdown",
   "metadata": {},
   "source": [
    "avg_frequency_login_days"
   ]
  },
  {
   "cell_type": "code",
   "execution_count": 598,
   "metadata": {},
   "outputs": [
    {
     "data": {
      "text/plain": [
       "avg_frequency_login_days\n",
       "Error                  3522\n",
       "13.0                   1394\n",
       "19.0                   1365\n",
       "8.0                    1361\n",
       "14.0                   1355\n",
       "                       ... \n",
       "28.191570401129514        1\n",
       "41.73357294995208         1\n",
       "-11.515939810499656       1\n",
       "45.71683637272365         1\n",
       "27.8399274405269          1\n",
       "Name: count, Length: 1654, dtype: int64"
      ]
     },
     "execution_count": 598,
     "metadata": {},
     "output_type": "execute_result"
    }
   ],
   "source": [
    "df['avg_frequency_login_days'].value_counts()"
   ]
  },
  {
   "cell_type": "code",
   "execution_count": 599,
   "metadata": {},
   "outputs": [
    {
     "data": {
      "text/plain": [
       "count    36992.000000\n",
       "mean        14.455576\n",
       "std          9.941579\n",
       "min        -43.652702\n",
       "25%          7.000000\n",
       "50%         14.000000\n",
       "75%         22.000000\n",
       "max         73.061995\n",
       "Name: avg_frequency_login_days, dtype: float64"
      ]
     },
     "execution_count": 599,
     "metadata": {},
     "output_type": "execute_result"
    }
   ],
   "source": [
    "df['avg_frequency_login_days'] = df['avg_frequency_login_days'].replace('Error', 0).astype(float)\n",
    "df['avg_frequency_login_days'].describe()"
   ]
  },
  {
   "attachments": {},
   "cell_type": "markdown",
   "metadata": {},
   "source": [
    "## Dealing with numeric features"
   ]
  },
  {
   "cell_type": "code",
   "execution_count": 600,
   "metadata": {},
   "outputs": [
    {
     "data": {
      "text/plain": [
       "['age',\n",
       " 'days_since_last_login',\n",
       " 'avg_time_spent',\n",
       " 'avg_transaction_value',\n",
       " 'points_in_wallet',\n",
       " 'churn_risk_score']"
      ]
     },
     "execution_count": 600,
     "metadata": {},
     "output_type": "execute_result"
    }
   ],
   "source": [
    "numerical_features"
   ]
  },
  {
   "attachments": {},
   "cell_type": "markdown",
   "metadata": {},
   "source": [
    "days_since_last_login"
   ]
  },
  {
   "cell_type": "code",
   "execution_count": 601,
   "metadata": {},
   "outputs": [
    {
     "data": {
      "text/plain": [
       "days_since_last_login\n",
       " 12     2380\n",
       " 13     2373\n",
       " 14     2307\n",
       " 15     2278\n",
       " 11     2262\n",
       " 10     2091\n",
       " 16     2068\n",
       "-999    1999\n",
       " 9      1863\n",
       " 17     1747\n",
       " 8      1571\n",
       " 18     1444\n",
       " 7      1442\n",
       " 19     1308\n",
       " 6      1257\n",
       " 5      1234\n",
       " 20     1184\n",
       " 21     1015\n",
       " 4       998\n",
       " 22      895\n",
       " 3       852\n",
       " 23      727\n",
       " 2       613\n",
       " 24      471\n",
       " 1       328\n",
       " 25      203\n",
       " 26       82\n",
       "Name: count, dtype: int64"
      ]
     },
     "execution_count": 601,
     "metadata": {},
     "output_type": "execute_result"
    }
   ],
   "source": [
    "df['days_since_last_login'].value_counts()"
   ]
  },
  {
   "cell_type": "code",
   "execution_count": 602,
   "metadata": {},
   "outputs": [],
   "source": [
    "# mean_value = df.loc[df['days_since_last_login'] > -1]['days_since_last_login'].mean()\n",
    "df['days_since_last_login'] = df['days_since_last_login'].replace(-999, 0)"
   ]
  },
  {
   "attachments": {},
   "cell_type": "markdown",
   "metadata": {},
   "source": [
    "avg_time_spent"
   ]
  },
  {
   "cell_type": "code",
   "execution_count": 603,
   "metadata": {},
   "outputs": [],
   "source": [
    "# median_value = df.loc[df['avg_time_spent'] >= 0, 'avg_time_spent'].median()\n",
    "df['avg_time_spent'] = df['avg_time_spent'].mask(df['avg_time_spent'] < 0, 0)"
   ]
  },
  {
   "cell_type": "code",
   "execution_count": 604,
   "metadata": {},
   "outputs": [
    {
     "data": {
      "text/plain": [
       "count    36992.000000\n",
       "mean       279.147450\n",
       "std        329.947709\n",
       "min          0.000000\n",
       "25%         60.102500\n",
       "50%        161.765000\n",
       "75%        356.515000\n",
       "max       3235.578521\n",
       "Name: avg_time_spent, dtype: float64"
      ]
     },
     "execution_count": 604,
     "metadata": {},
     "output_type": "execute_result"
    }
   ],
   "source": [
    "df['avg_time_spent'].describe()"
   ]
  },
  {
   "attachments": {},
   "cell_type": "markdown",
   "metadata": {},
   "source": [
    "avg_transaction_value"
   ]
  },
  {
   "attachments": {},
   "cell_type": "markdown",
   "metadata": {},
   "source": [
    "points_in_wallet"
   ]
  },
  {
   "cell_type": "code",
   "execution_count": 605,
   "metadata": {},
   "outputs": [
    {
     "data": {
      "text/plain": [
       "points_in_wallet\n",
       "False    33549\n",
       "True      3443\n",
       "Name: count, dtype: int64"
      ]
     },
     "execution_count": 605,
     "metadata": {},
     "output_type": "execute_result"
    }
   ],
   "source": [
    "df['points_in_wallet'].isnull().value_counts()"
   ]
  },
  {
   "attachments": {},
   "cell_type": "markdown",
   "metadata": {},
   "source": [
    "3443 dòng có giá trị NaN"
   ]
  },
  {
   "cell_type": "code",
   "execution_count": 606,
   "metadata": {},
   "outputs": [],
   "source": [
    "median_value = df.loc[df['points_in_wallet'] >= 0, 'points_in_wallet'].median()\n",
    "df['points_in_wallet'] = df['points_in_wallet'].mask(df['points_in_wallet'] < 0, median_value)\n",
    "df['points_in_wallet'] = df['points_in_wallet'].fillna(median_value)"
   ]
  },
  {
   "attachments": {},
   "cell_type": "markdown",
   "metadata": {},
   "source": [
    "churn_risk_score"
   ]
  },
  {
   "cell_type": "code",
   "execution_count": 607,
   "metadata": {},
   "outputs": [
    {
     "data": {
      "image/png": "[encoded data removed]",
      "text/plain": [
       "<Figure size 1600x1600 with 6 Axes>"
      ]
     },
     "metadata": {},
     "output_type": "display_data"
    }
   ],
   "source": [
    "fig = plt.figure(figsize=(16,16))\n",
    "for i in range(len(numerical_features)):\n",
    "    fig.add_subplot(3, 3, i+1)\n",
    "    sns.boxplot(y=df[numerical_features[i]])\n",
    "plt.tight_layout()\n",
    "plt.show()"
   ]
  },
  {
   "cell_type": "code",
   "execution_count": 608,
   "metadata": {},
   "outputs": [
    {
     "data": {
      "text/plain": [
       "(36992, 21)"
      ]
     },
     "execution_count": 608,
     "metadata": {},
     "output_type": "execute_result"
    }
   ],
   "source": [
    "df.shape"
   ]
  },
  {
   "cell_type": "code",
   "execution_count": 609,
   "metadata": {},
   "outputs": [
    {
     "data": {
      "text/html": [
       "<div>\n",
       "<style scoped>\n",
       "    .dataframe tbody tr th:only-of-type {\n",
       "        vertical-align: middle;\n",
       "    }\n",
       "\n",
       "    .dataframe tbody tr th {\n",
       "        vertical-align: top;\n",
       "    }\n",
       "\n",
       "    .dataframe thead th {\n",
       "        text-align: right;\n",
       "    }\n",
       "</style>\n",
       "<table border=\"1\" class=\"dataframe\">\n",
       "  <thead>\n",
       "    <tr style=\"text-align: right;\">\n",
       "      <th></th>\n",
       "      <th>age</th>\n",
       "      <th>last_visit_time</th>\n",
       "      <th>days_since_last_login</th>\n",
       "      <th>avg_time_spent</th>\n",
       "      <th>avg_transaction_value</th>\n",
       "      <th>avg_frequency_login_days</th>\n",
       "      <th>points_in_wallet</th>\n",
       "      <th>churn_risk_score</th>\n",
       "      <th>days_since_joined</th>\n",
       "    </tr>\n",
       "  </thead>\n",
       "  <tbody>\n",
       "    <tr>\n",
       "      <th>count</th>\n",
       "      <td>36992.000000</td>\n",
       "      <td>36992.000000</td>\n",
       "      <td>36992.000000</td>\n",
       "      <td>36992.000000</td>\n",
       "      <td>36992.000000</td>\n",
       "      <td>36992.000000</td>\n",
       "      <td>36992.000000</td>\n",
       "      <td>36992.000000</td>\n",
       "      <td>36992.000000</td>\n",
       "    </tr>\n",
       "    <tr>\n",
       "      <th>mean</th>\n",
       "      <td>37.118161</td>\n",
       "      <td>43343.395491</td>\n",
       "      <td>12.069096</td>\n",
       "      <td>279.147450</td>\n",
       "      <td>29271.194003</td>\n",
       "      <td>14.455576</td>\n",
       "      <td>691.118561</td>\n",
       "      <td>3.463397</td>\n",
       "      <td>2542.793063</td>\n",
       "    </tr>\n",
       "    <tr>\n",
       "      <th>std</th>\n",
       "      <td>15.867412</td>\n",
       "      <td>24934.420236</td>\n",
       "      <td>6.139792</td>\n",
       "      <td>329.947709</td>\n",
       "      <td>19444.806226</td>\n",
       "      <td>9.941579</td>\n",
       "      <td>177.194251</td>\n",
       "      <td>1.409661</td>\n",
       "      <td>317.860926</td>\n",
       "    </tr>\n",
       "    <tr>\n",
       "      <th>min</th>\n",
       "      <td>10.000000</td>\n",
       "      <td>0.000000</td>\n",
       "      <td>0.000000</td>\n",
       "      <td>0.000000</td>\n",
       "      <td>800.460000</td>\n",
       "      <td>-43.652702</td>\n",
       "      <td>6.432208</td>\n",
       "      <td>-1.000000</td>\n",
       "      <td>1998.000000</td>\n",
       "    </tr>\n",
       "    <tr>\n",
       "      <th>25%</th>\n",
       "      <td>23.000000</td>\n",
       "      <td>21852.000000</td>\n",
       "      <td>8.000000</td>\n",
       "      <td>60.102500</td>\n",
       "      <td>14177.540000</td>\n",
       "      <td>7.000000</td>\n",
       "      <td>625.597500</td>\n",
       "      <td>3.000000</td>\n",
       "      <td>2267.000000</td>\n",
       "    </tr>\n",
       "    <tr>\n",
       "      <th>50%</th>\n",
       "      <td>37.000000</td>\n",
       "      <td>43332.500000</td>\n",
       "      <td>12.000000</td>\n",
       "      <td>161.765000</td>\n",
       "      <td>27554.485000</td>\n",
       "      <td>14.000000</td>\n",
       "      <td>698.250000</td>\n",
       "      <td>4.000000</td>\n",
       "      <td>2542.000000</td>\n",
       "    </tr>\n",
       "    <tr>\n",
       "      <th>75%</th>\n",
       "      <td>51.000000</td>\n",
       "      <td>64859.250000</td>\n",
       "      <td>16.000000</td>\n",
       "      <td>356.515000</td>\n",
       "      <td>40855.110000</td>\n",
       "      <td>22.000000</td>\n",
       "      <td>757.002500</td>\n",
       "      <td>5.000000</td>\n",
       "      <td>2820.000000</td>\n",
       "    </tr>\n",
       "    <tr>\n",
       "      <th>max</th>\n",
       "      <td>64.000000</td>\n",
       "      <td>86399.000000</td>\n",
       "      <td>26.000000</td>\n",
       "      <td>3235.578521</td>\n",
       "      <td>99914.050000</td>\n",
       "      <td>73.061995</td>\n",
       "      <td>2069.069761</td>\n",
       "      <td>5.000000</td>\n",
       "      <td>3093.000000</td>\n",
       "    </tr>\n",
       "  </tbody>\n",
       "</table>\n",
       "</div>"
      ],
      "text/plain": [
       "                age  last_visit_time  days_since_last_login  avg_time_spent   \n",
       "count  36992.000000     36992.000000           36992.000000    36992.000000  \\\n",
       "mean      37.118161     43343.395491              12.069096      279.147450   \n",
       "std       15.867412     24934.420236               6.139792      329.947709   \n",
       "min       10.000000         0.000000               0.000000        0.000000   \n",
       "25%       23.000000     21852.000000               8.000000       60.102500   \n",
       "50%       37.000000     43332.500000              12.000000      161.765000   \n",
       "75%       51.000000     64859.250000              16.000000      356.515000   \n",
       "max       64.000000     86399.000000              26.000000     3235.578521   \n",
       "\n",
       "       avg_transaction_value  avg_frequency_login_days  points_in_wallet   \n",
       "count           36992.000000              36992.000000      36992.000000  \\\n",
       "mean            29271.194003                 14.455576        691.118561   \n",
       "std             19444.806226                  9.941579        177.194251   \n",
       "min               800.460000                -43.652702          6.432208   \n",
       "25%             14177.540000                  7.000000        625.597500   \n",
       "50%             27554.485000                 14.000000        698.250000   \n",
       "75%             40855.110000                 22.000000        757.002500   \n",
       "max             99914.050000                 73.061995       2069.069761   \n",
       "\n",
       "       churn_risk_score  days_since_joined  \n",
       "count      36992.000000       36992.000000  \n",
       "mean           3.463397        2542.793063  \n",
       "std            1.409661         317.860926  \n",
       "min           -1.000000        1998.000000  \n",
       "25%            3.000000        2267.000000  \n",
       "50%            4.000000        2542.000000  \n",
       "75%            5.000000        2820.000000  \n",
       "max            5.000000        3093.000000  "
      ]
     },
     "execution_count": 609,
     "metadata": {},
     "output_type": "execute_result"
    }
   ],
   "source": [
    "df.describe()"
   ]
  },
  {
   "cell_type": "code",
   "execution_count": 610,
   "metadata": {},
   "outputs": [],
   "source": [
    "df['churn_risk_score']=df['churn_risk_score'].replace(-1, 5)"
   ]
  },
  {
   "cell_type": "code",
   "execution_count": 611,
   "metadata": {},
   "outputs": [
    {
     "data": {
      "text/plain": [
       "churn_risk_score\n",
       "5    10990\n",
       "3    10424\n",
       "4    10185\n",
       "2     2741\n",
       "1     2652\n",
       "Name: count, dtype: int64"
      ]
     },
     "execution_count": 611,
     "metadata": {},
     "output_type": "execute_result"
    }
   ],
   "source": [
    "df['churn_risk_score'].value_counts()"
   ]
  },
  {
   "attachments": {},
   "cell_type": "markdown",
   "metadata": {},
   "source": [
    "# Feature enginerring"
   ]
  },
  {
   "cell_type": "code",
   "execution_count": 612,
   "metadata": {},
   "outputs": [
    {
     "data": {
      "text/html": [
       "<div>\n",
       "<style scoped>\n",
       "    .dataframe tbody tr th:only-of-type {\n",
       "        vertical-align: middle;\n",
       "    }\n",
       "\n",
       "    .dataframe tbody tr th {\n",
       "        vertical-align: top;\n",
       "    }\n",
       "\n",
       "    .dataframe thead th {\n",
       "        text-align: right;\n",
       "    }\n",
       "</style>\n",
       "<table border=\"1\" class=\"dataframe\">\n",
       "  <thead>\n",
       "    <tr style=\"text-align: right;\">\n",
       "      <th></th>\n",
       "      <th>age</th>\n",
       "      <th>gender</th>\n",
       "      <th>region_category</th>\n",
       "      <th>membership_category</th>\n",
       "      <th>joined_through_referral</th>\n",
       "      <th>preferred_offer_types</th>\n",
       "      <th>medium_of_operation</th>\n",
       "      <th>internet_option</th>\n",
       "      <th>last_visit_time</th>\n",
       "      <th>days_since_last_login</th>\n",
       "      <th>avg_time_spent</th>\n",
       "      <th>avg_transaction_value</th>\n",
       "      <th>avg_frequency_login_days</th>\n",
       "      <th>points_in_wallet</th>\n",
       "      <th>used_special_discount</th>\n",
       "      <th>offer_application_preference</th>\n",
       "      <th>past_complaint</th>\n",
       "      <th>complaint_status</th>\n",
       "      <th>feedback</th>\n",
       "      <th>days_since_joined</th>\n",
       "    </tr>\n",
       "  </thead>\n",
       "  <tbody>\n",
       "    <tr>\n",
       "      <th>0</th>\n",
       "      <td>18</td>\n",
       "      <td>F</td>\n",
       "      <td>Village</td>\n",
       "      <td>Platinum Membership</td>\n",
       "      <td>No</td>\n",
       "      <td>Gift Vouchers/Coupons</td>\n",
       "      <td>Both</td>\n",
       "      <td>Wi-Fi</td>\n",
       "      <td>58082</td>\n",
       "      <td>17</td>\n",
       "      <td>300.63</td>\n",
       "      <td>53005.25</td>\n",
       "      <td>17.0</td>\n",
       "      <td>781.75</td>\n",
       "      <td>Yes</td>\n",
       "      <td>Yes</td>\n",
       "      <td>No</td>\n",
       "      <td>Not Applicable</td>\n",
       "      <td>Products always in Stock</td>\n",
       "      <td>2134</td>\n",
       "    </tr>\n",
       "    <tr>\n",
       "      <th>1</th>\n",
       "      <td>32</td>\n",
       "      <td>F</td>\n",
       "      <td>City</td>\n",
       "      <td>Premium Membership</td>\n",
       "      <td>Yes</td>\n",
       "      <td>Gift Vouchers/Coupons</td>\n",
       "      <td>Desktop</td>\n",
       "      <td>Mobile_Data</td>\n",
       "      <td>45493</td>\n",
       "      <td>16</td>\n",
       "      <td>306.34</td>\n",
       "      <td>12838.38</td>\n",
       "      <td>10.0</td>\n",
       "      <td>698.25</td>\n",
       "      <td>Yes</td>\n",
       "      <td>No</td>\n",
       "      <td>Yes</td>\n",
       "      <td>Solved</td>\n",
       "      <td>Quality Customer Care</td>\n",
       "      <td>2123</td>\n",
       "    </tr>\n",
       "    <tr>\n",
       "      <th>2</th>\n",
       "      <td>44</td>\n",
       "      <td>F</td>\n",
       "      <td>Town</td>\n",
       "      <td>No Membership</td>\n",
       "      <td>Yes</td>\n",
       "      <td>Gift Vouchers/Coupons</td>\n",
       "      <td>Desktop</td>\n",
       "      <td>Wi-Fi</td>\n",
       "      <td>82401</td>\n",
       "      <td>14</td>\n",
       "      <td>516.16</td>\n",
       "      <td>21027.00</td>\n",
       "      <td>22.0</td>\n",
       "      <td>500.69</td>\n",
       "      <td>No</td>\n",
       "      <td>Yes</td>\n",
       "      <td>Yes</td>\n",
       "      <td>Solved in Follow-up</td>\n",
       "      <td>Poor Website</td>\n",
       "      <td>2413</td>\n",
       "    </tr>\n",
       "    <tr>\n",
       "      <th>3</th>\n",
       "      <td>37</td>\n",
       "      <td>M</td>\n",
       "      <td>City</td>\n",
       "      <td>No Membership</td>\n",
       "      <td>Yes</td>\n",
       "      <td>Gift Vouchers/Coupons</td>\n",
       "      <td>Desktop</td>\n",
       "      <td>Mobile_Data</td>\n",
       "      <td>57470</td>\n",
       "      <td>11</td>\n",
       "      <td>53.27</td>\n",
       "      <td>25239.56</td>\n",
       "      <td>6.0</td>\n",
       "      <td>567.66</td>\n",
       "      <td>No</td>\n",
       "      <td>Yes</td>\n",
       "      <td>Yes</td>\n",
       "      <td>Unsolved</td>\n",
       "      <td>Poor Website</td>\n",
       "      <td>2426</td>\n",
       "    </tr>\n",
       "    <tr>\n",
       "      <th>4</th>\n",
       "      <td>31</td>\n",
       "      <td>F</td>\n",
       "      <td>City</td>\n",
       "      <td>No Membership</td>\n",
       "      <td>No</td>\n",
       "      <td>Credit/Debit Card Offers</td>\n",
       "      <td>Smartphone</td>\n",
       "      <td>Mobile_Data</td>\n",
       "      <td>56804</td>\n",
       "      <td>20</td>\n",
       "      <td>113.13</td>\n",
       "      <td>24483.66</td>\n",
       "      <td>16.0</td>\n",
       "      <td>663.06</td>\n",
       "      <td>No</td>\n",
       "      <td>Yes</td>\n",
       "      <td>Yes</td>\n",
       "      <td>Solved</td>\n",
       "      <td>Poor Website</td>\n",
       "      <td>2108</td>\n",
       "    </tr>\n",
       "  </tbody>\n",
       "</table>\n",
       "</div>"
      ],
      "text/plain": [
       "   age gender region_category  membership_category joined_through_referral   \n",
       "0   18      F         Village  Platinum Membership                      No  \\\n",
       "1   32      F            City   Premium Membership                     Yes   \n",
       "2   44      F            Town        No Membership                     Yes   \n",
       "3   37      M            City        No Membership                     Yes   \n",
       "4   31      F            City        No Membership                      No   \n",
       "\n",
       "      preferred_offer_types medium_of_operation internet_option   \n",
       "0     Gift Vouchers/Coupons                Both           Wi-Fi  \\\n",
       "1     Gift Vouchers/Coupons             Desktop     Mobile_Data   \n",
       "2     Gift Vouchers/Coupons             Desktop           Wi-Fi   \n",
       "3     Gift Vouchers/Coupons             Desktop     Mobile_Data   \n",
       "4  Credit/Debit Card Offers          Smartphone     Mobile_Data   \n",
       "\n",
       "   last_visit_time  days_since_last_login  avg_time_spent   \n",
       "0            58082                     17          300.63  \\\n",
       "1            45493                     16          306.34   \n",
       "2            82401                     14          516.16   \n",
       "3            57470                     11           53.27   \n",
       "4            56804                     20          113.13   \n",
       "\n",
       "   avg_transaction_value  avg_frequency_login_days  points_in_wallet   \n",
       "0               53005.25                      17.0            781.75  \\\n",
       "1               12838.38                      10.0            698.25   \n",
       "2               21027.00                      22.0            500.69   \n",
       "3               25239.56                       6.0            567.66   \n",
       "4               24483.66                      16.0            663.06   \n",
       "\n",
       "  used_special_discount offer_application_preference past_complaint   \n",
       "0                   Yes                          Yes             No  \\\n",
       "1                   Yes                           No            Yes   \n",
       "2                    No                          Yes            Yes   \n",
       "3                    No                          Yes            Yes   \n",
       "4                    No                          Yes            Yes   \n",
       "\n",
       "      complaint_status                  feedback  days_since_joined  \n",
       "0       Not Applicable  Products always in Stock               2134  \n",
       "1               Solved     Quality Customer Care               2123  \n",
       "2  Solved in Follow-up              Poor Website               2413  \n",
       "3             Unsolved              Poor Website               2426  \n",
       "4               Solved              Poor Website               2108  "
      ]
     },
     "execution_count": 612,
     "metadata": {},
     "output_type": "execute_result"
    }
   ],
   "source": [
    "X=df.drop('churn_risk_score', axis=1).copy()\n",
    "X.head()"
   ]
  },
  {
   "cell_type": "code",
   "execution_count": 613,
   "metadata": {},
   "outputs": [],
   "source": [
    "y=df['churn_risk_score'].copy()"
   ]
  },
  {
   "attachments": {},
   "cell_type": "markdown",
   "metadata": {},
   "source": [
    "### One-hot Encoding"
   ]
  },
  {
   "cell_type": "code",
   "execution_count": 614,
   "metadata": {},
   "outputs": [],
   "source": [
    "from sklearn.preprocessing import StandardScaler"
   ]
  },
  {
   "cell_type": "code",
   "execution_count": 615,
   "metadata": {},
   "outputs": [],
   "source": [
    "# Todo: Normalize your data\n",
    "numerical_features = [feature for feature in X.columns if ((X[feature].dtypes != 'O'))]\n",
    "categorical_features = [feature for feature in X.columns if ((X[feature].dtypes == 'object'))]"
   ]
  },
  {
   "cell_type": "code",
   "execution_count": 616,
   "metadata": {},
   "outputs": [],
   "source": [
    "X_cat_scaled=pd.get_dummies(X[categorical_features],columns=categorical_features).astype('int')\n",
    "\n",
    "X=pd.concat([X[numerical_features],X_cat_scaled],axis=1)\n",
    "scaler=StandardScaler()\n",
    "X[numerical_features]=scaler.fit_transform(X[numerical_features])"
   ]
  },
  {
   "cell_type": "code",
   "execution_count": 617,
   "metadata": {},
   "outputs": [
    {
     "data": {
      "text/plain": [
       "(36992, 50)"
      ]
     },
     "execution_count": 617,
     "metadata": {},
     "output_type": "execute_result"
    }
   ],
   "source": [
    "X.shape"
   ]
  },
  {
   "cell_type": "code",
   "execution_count": 618,
   "metadata": {},
   "outputs": [
    {
     "data": {
      "text/html": [
       "<div>\n",
       "<style scoped>\n",
       "    .dataframe tbody tr th:only-of-type {\n",
       "        vertical-align: middle;\n",
       "    }\n",
       "\n",
       "    .dataframe tbody tr th {\n",
       "        vertical-align: top;\n",
       "    }\n",
       "\n",
       "    .dataframe thead th {\n",
       "        text-align: right;\n",
       "    }\n",
       "</style>\n",
       "<table border=\"1\" class=\"dataframe\">\n",
       "  <thead>\n",
       "    <tr style=\"text-align: right;\">\n",
       "      <th></th>\n",
       "      <th>age</th>\n",
       "      <th>last_visit_time</th>\n",
       "      <th>days_since_last_login</th>\n",
       "      <th>avg_time_spent</th>\n",
       "      <th>avg_transaction_value</th>\n",
       "      <th>avg_frequency_login_days</th>\n",
       "      <th>points_in_wallet</th>\n",
       "      <th>days_since_joined</th>\n",
       "      <th>gender_F</th>\n",
       "      <th>gender_M</th>\n",
       "      <th>...</th>\n",
       "      <th>complaint_status_Unsolved</th>\n",
       "      <th>feedback_No reason specified</th>\n",
       "      <th>feedback_Poor Customer Service</th>\n",
       "      <th>feedback_Poor Product Quality</th>\n",
       "      <th>feedback_Poor Website</th>\n",
       "      <th>feedback_Products always in Stock</th>\n",
       "      <th>feedback_Quality Customer Care</th>\n",
       "      <th>feedback_Reasonable Price</th>\n",
       "      <th>feedback_Too many ads</th>\n",
       "      <th>feedback_User Friendly Website</th>\n",
       "    </tr>\n",
       "  </thead>\n",
       "  <tbody>\n",
       "    <tr>\n",
       "      <th>0</th>\n",
       "      <td>-1.204886</td>\n",
       "      <td>0.591103</td>\n",
       "      <td>0.803117</td>\n",
       "      <td>0.065110</td>\n",
       "      <td>1.220602</td>\n",
       "      <td>0.255941</td>\n",
       "      <td>0.511488</td>\n",
       "      <td>-1.286093</td>\n",
       "      <td>1</td>\n",
       "      <td>0</td>\n",
       "      <td>...</td>\n",
       "      <td>0</td>\n",
       "      <td>0</td>\n",
       "      <td>0</td>\n",
       "      <td>0</td>\n",
       "      <td>0</td>\n",
       "      <td>1</td>\n",
       "      <td>0</td>\n",
       "      <td>0</td>\n",
       "      <td>0</td>\n",
       "      <td>0</td>\n",
       "    </tr>\n",
       "    <tr>\n",
       "      <th>1</th>\n",
       "      <td>-0.322562</td>\n",
       "      <td>0.086211</td>\n",
       "      <td>0.640243</td>\n",
       "      <td>0.082416</td>\n",
       "      <td>-0.845112</td>\n",
       "      <td>-0.448182</td>\n",
       "      <td>0.040247</td>\n",
       "      <td>-1.320699</td>\n",
       "      <td>1</td>\n",
       "      <td>0</td>\n",
       "      <td>...</td>\n",
       "      <td>0</td>\n",
       "      <td>0</td>\n",
       "      <td>0</td>\n",
       "      <td>0</td>\n",
       "      <td>0</td>\n",
       "      <td>0</td>\n",
       "      <td>1</td>\n",
       "      <td>0</td>\n",
       "      <td>0</td>\n",
       "      <td>0</td>\n",
       "    </tr>\n",
       "    <tr>\n",
       "      <th>2</th>\n",
       "      <td>0.433715</td>\n",
       "      <td>1.566434</td>\n",
       "      <td>0.314494</td>\n",
       "      <td>0.718343</td>\n",
       "      <td>-0.423985</td>\n",
       "      <td>0.758886</td>\n",
       "      <td>-1.074703</td>\n",
       "      <td>-0.408338</td>\n",
       "      <td>1</td>\n",
       "      <td>0</td>\n",
       "      <td>...</td>\n",
       "      <td>0</td>\n",
       "      <td>0</td>\n",
       "      <td>0</td>\n",
       "      <td>0</td>\n",
       "      <td>1</td>\n",
       "      <td>0</td>\n",
       "      <td>0</td>\n",
       "      <td>0</td>\n",
       "      <td>0</td>\n",
       "      <td>0</td>\n",
       "    </tr>\n",
       "    <tr>\n",
       "      <th>3</th>\n",
       "      <td>-0.007447</td>\n",
       "      <td>0.566558</td>\n",
       "      <td>-0.174128</td>\n",
       "      <td>-0.684595</td>\n",
       "      <td>-0.207340</td>\n",
       "      <td>-0.850538</td>\n",
       "      <td>-0.696751</td>\n",
       "      <td>-0.367439</td>\n",
       "      <td>0</td>\n",
       "      <td>1</td>\n",
       "      <td>...</td>\n",
       "      <td>1</td>\n",
       "      <td>0</td>\n",
       "      <td>0</td>\n",
       "      <td>0</td>\n",
       "      <td>1</td>\n",
       "      <td>0</td>\n",
       "      <td>0</td>\n",
       "      <td>0</td>\n",
       "      <td>0</td>\n",
       "      <td>0</td>\n",
       "    </tr>\n",
       "    <tr>\n",
       "      <th>4</th>\n",
       "      <td>-0.385585</td>\n",
       "      <td>0.539848</td>\n",
       "      <td>1.291739</td>\n",
       "      <td>-0.503170</td>\n",
       "      <td>-0.246215</td>\n",
       "      <td>0.155352</td>\n",
       "      <td>-0.158351</td>\n",
       "      <td>-1.367890</td>\n",
       "      <td>1</td>\n",
       "      <td>0</td>\n",
       "      <td>...</td>\n",
       "      <td>0</td>\n",
       "      <td>0</td>\n",
       "      <td>0</td>\n",
       "      <td>0</td>\n",
       "      <td>1</td>\n",
       "      <td>0</td>\n",
       "      <td>0</td>\n",
       "      <td>0</td>\n",
       "      <td>0</td>\n",
       "      <td>0</td>\n",
       "    </tr>\n",
       "  </tbody>\n",
       "</table>\n",
       "<p>5 rows × 50 columns</p>\n",
       "</div>"
      ],
      "text/plain": [
       "        age  last_visit_time  days_since_last_login  avg_time_spent   \n",
       "0 -1.204886         0.591103               0.803117        0.065110  \\\n",
       "1 -0.322562         0.086211               0.640243        0.082416   \n",
       "2  0.433715         1.566434               0.314494        0.718343   \n",
       "3 -0.007447         0.566558              -0.174128       -0.684595   \n",
       "4 -0.385585         0.539848               1.291739       -0.503170   \n",
       "\n",
       "   avg_transaction_value  avg_frequency_login_days  points_in_wallet   \n",
       "0               1.220602                  0.255941          0.511488  \\\n",
       "1              -0.845112                 -0.448182          0.040247   \n",
       "2              -0.423985                  0.758886         -1.074703   \n",
       "3              -0.207340                 -0.850538         -0.696751   \n",
       "4              -0.246215                  0.155352         -0.158351   \n",
       "\n",
       "   days_since_joined  gender_F  gender_M  ...  complaint_status_Unsolved   \n",
       "0          -1.286093         1         0  ...                          0  \\\n",
       "1          -1.320699         1         0  ...                          0   \n",
       "2          -0.408338         1         0  ...                          0   \n",
       "3          -0.367439         0         1  ...                          1   \n",
       "4          -1.367890         1         0  ...                          0   \n",
       "\n",
       "   feedback_No reason specified  feedback_Poor Customer Service   \n",
       "0                             0                               0  \\\n",
       "1                             0                               0   \n",
       "2                             0                               0   \n",
       "3                             0                               0   \n",
       "4                             0                               0   \n",
       "\n",
       "   feedback_Poor Product Quality  feedback_Poor Website   \n",
       "0                              0                      0  \\\n",
       "1                              0                      0   \n",
       "2                              0                      1   \n",
       "3                              0                      1   \n",
       "4                              0                      1   \n",
       "\n",
       "   feedback_Products always in Stock  feedback_Quality Customer Care   \n",
       "0                                  1                               0  \\\n",
       "1                                  0                               1   \n",
       "2                                  0                               0   \n",
       "3                                  0                               0   \n",
       "4                                  0                               0   \n",
       "\n",
       "   feedback_Reasonable Price  feedback_Too many ads   \n",
       "0                          0                      0  \\\n",
       "1                          0                      0   \n",
       "2                          0                      0   \n",
       "3                          0                      0   \n",
       "4                          0                      0   \n",
       "\n",
       "   feedback_User Friendly Website  \n",
       "0                               0  \n",
       "1                               0  \n",
       "2                               0  \n",
       "3                               0  \n",
       "4                               0  \n",
       "\n",
       "[5 rows x 50 columns]"
      ]
     },
     "execution_count": 618,
     "metadata": {},
     "output_type": "execute_result"
    }
   ],
   "source": [
    "X.head()"
   ]
  },
  {
   "cell_type": "code",
   "execution_count": 619,
   "metadata": {},
   "outputs": [],
   "source": [
    "from sklearn.model_selection import train_test_split\n",
    "RANDOM_STATE = 223\n",
    "TRAIN_SIZE = 0.3\n",
    "\n",
    "trainX, testX ,trainY, testY = train_test_split(X, y, train_size=TRAIN_SIZE, random_state=RANDOM_STATE)"
   ]
  },
  {
   "cell_type": "code",
   "execution_count": 622,
   "metadata": {},
   "outputs": [
    {
     "name": "stdout",
     "output_type": "stream",
     "text": [
      "Accuracy: 0.72902104653408\n",
      "Akurasi model SVM 72.90 %\n",
      "Report Metrics SVM \n",
      "               precision    recall  f1-score   support\n",
      "\n",
      "           1       0.55      1.00      0.71      1861\n",
      "           2       0.98      0.26      0.41      1930\n",
      "           3       0.85      0.92      0.88      7260\n",
      "           4       0.78      0.37      0.50      7137\n",
      "           5       0.67      0.94      0.78      7707\n",
      "\n",
      "    accuracy                           0.73     25895\n",
      "   macro avg       0.77      0.70      0.66     25895\n",
      "weighted avg       0.77      0.73      0.70     25895\n",
      "\n",
      "Confuction Matrix SVM \n"
     ]
    },
    {
     "data": {
      "image/png": "[encoded data removed]",
      "text/plain": [
       "<Figure size 640x480 with 2 Axes>"
      ]
     },
     "metadata": {},
     "output_type": "display_data"
    }
   ],
   "source": [
    "from sklearn.svm import SVC\n",
    "from sklearn.pipeline import make_pipeline\n",
    "from sklearn.preprocessing import StandardScaler\n",
    "from sklearn.model_selection import GridSearchCV\n",
    "from sklearn.metrics import accuracy_score\n",
    "from sklearn.metrics import classification_report\n",
    "from sklearn.metrics import confusion_matrix\n",
    "# Xây dựng pipeline với StandardScaler và mô hình SVM\n",
    "pipeline = make_pipeline(StandardScaler(), SVC())\n",
    "# Tạo một dict chứa các giá trị để tinh chỉnh\n",
    "param_grid = {\n",
    "    'svc__kernel': ['linear', 'rbf', 'poly'],\n",
    "    'svc__C': [0.1, 1.0, 10.0],\n",
    "    'svc__gamma': ['scale', 'auto']\n",
    "}\n",
    "\n",
    "# Tạo GridSearchCV để tìm kiếm các tham số tốt nhất\n",
    "grid_search = GridSearchCV(pipeline, param_grid, cv=5)\n",
    "\n",
    "# Huấn luyện mô hình với tìm kiếm lưới\n",
    "grid_search.fit(trainX, trainY)\n",
    "\n",
    "# Lấy mô hình tốt nhất từ tìm kiếm lưới\n",
    "best_model = grid_search.best_estimator_\n",
    "\n",
    "# Dự đoán nhãn cho dữ liệu kiểm tra\n",
    "predY = best_model.predict(testX)\n",
    "\n",
    "# Đánh giá mô hình\n",
    "accuracy = accuracy_score(testY, predY)\n",
    "print('Accuracy:', accuracy)\n",
    "akurasiSVM = accuracy_score(testY, predY)\n",
    "print('Akurasi model SVM', \"{:.2f}\".format(akurasiSVM * 100),'%')\n",
    "print(f\"Report Metrics SVM \\n {classification_report(testY, predY)}\")\n",
    "\n",
    "print(f\"Confuction Matrix SVM \")\n",
    "ax= plt.subplot()\n",
    "sns.heatmap(confusion_matrix(testY, predY), annot=True, ax = ax, fmt = 'g', cmap='Greens')\n",
    "ax.set_xlabel('Predicted label')\n",
    "ax.set_ylabel('Actual label')\n",
    "plt.show()"
   ]
  },
  {
   "cell_type": "code",
   "execution_count": 621,
   "metadata": {},
   "outputs": [
    {
     "name": "stdout",
     "output_type": "stream",
     "text": [
      "Accuracy: 0.7269357018729484\n",
      "Akurasi model SVM 72.69 %\n",
      "Report Metrics SVM \n",
      "               precision    recall  f1-score   support\n",
      "\n",
      "           1       0.55      1.00      0.71      1861\n",
      "           2       0.98      0.26      0.41      1930\n",
      "           3       0.85      0.91      0.88      7260\n",
      "           4       0.78      0.36      0.50      7137\n",
      "           5       0.67      0.94      0.78      7707\n",
      "\n",
      "    accuracy                           0.73     25895\n",
      "   macro avg       0.77      0.69      0.65     25895\n",
      "weighted avg       0.76      0.73      0.70     25895\n",
      "\n",
      "Confuction Matrix SVM \n"
     ]
    },
    {
     "data": {
      "image/png": "[encoded data removed]",
      "text/plain": [
       "<Figure size 640x480 with 2 Axes>"
      ]
     },
     "metadata": {},
     "output_type": "display_data"
    }
   ],
   "source": [
    "from sklearn.svm import SVC\n",
    "from sklearn.pipeline import make_pipeline\n",
    "from sklearn.preprocessing import StandardScaler\n",
    "from sklearn.metrics import accuracy_score\n",
    "\n",
    "# Chuẩn bị dữ liệu\n",
    "# X_train, X_test: Dữ liệu đầu vào cho huấn luyện và kiểm tra\n",
    "# y_train, y_test: Nhãn tương ứng cho huấn luyện và kiểm tra\n",
    "\n",
    "# Xây dựng pipeline với StandardScaler và mô hình SVM\n",
    "pipeline = make_pipeline(StandardScaler(), SVC(kernel= 'linear', C=1.0, gamma='scale'))\n",
    "\n",
    "# Huấn luyện mô hình\n",
    "pipeline.fit(trainX, trainY)\n",
    "\n",
    "# Dự đoán nhãn cho dữ liệu kiểm tra\n",
    "predY = pipeline.predict(testX)\n",
    "\n",
    "# Đánh giá mô hình\n",
    "accuracy = accuracy_score(testY, predY)\n",
    "print('Accuracy:', accuracy)\n",
    "akurasiSVM = accuracy_score(testY, predY)\n",
    "print('Akurasi model SVM', \"{:.2f}\".format(akurasiSVM * 100),'%')\n",
    "print(f\"Report Metrics SVM \\n {classification_report(testY, predY)}\")\n",
    "\n",
    "print(f\"Confuction Matrix SVM \")\n",
    "ax= plt.subplot()\n",
    "sns.heatmap(confusion_matrix(testY, predY), annot=True, ax = ax, fmt = 'g', cmap='Greens')\n",
    "ax.set_xlabel('Predicted label')\n",
    "ax.set_ylabel('Actual label')\n",
    "plt.show()\n"
   ]
  }
 ],
 "metadata": {
  "kernelspec": {
   "display_name": "Python 3",
   "language": "python",
   "name": "python3"
  },
  "language_info": {
   "codemirror_mode": {
    "name": "ipython",
    "version": 3
   },
   "file_extension": ".py",
   "mimetype": "text/x-python",
   "name": "python",
   "nbconvert_exporter": "python",
   "pygments_lexer": "ipython3",
   "version": "3.11.2"
  },
  "orig_nbformat": 4
 },
 "nbformat": 4,
 "nbformat_minor": 2
}
